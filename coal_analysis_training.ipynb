{
  "nbformat": 4,
  "nbformat_minor": 0,
  "metadata": {
    "colab": {
      "name": "Copy of coal_analysis_training.ipynb",
      "provenance": [],
      "collapsed_sections": [
        "byo32INqNpF1"
      ],
      "authorship_tag": "ABX9TyOy70B+ay0qnUrRfThpyhkE",
      "include_colab_link": true
    },
    "kernelspec": {
      "name": "python3",
      "display_name": "Python 3"
    }
  },
  "cells": [
    {
      "cell_type": "markdown",
      "metadata": {
        "id": "view-in-github",
        "colab_type": "text"
      },
      "source": [
        "<a href=\"https://colab.research.google.com/github/pitimonb/coal_analysis/blob/test-new-dataset/coal_analysis_training.ipynb\" target=\"_parent\"><img src=\"https://colab.research.google.com/assets/colab-badge.svg\" alt=\"Open In Colab\"/></a>"
      ]
    },
    {
      "cell_type": "markdown",
      "metadata": {
        "id": "70psxl_NMGcT"
      },
      "source": [
        "# Setup Enviroment"
      ]
    },
    {
      "cell_type": "code",
      "metadata": {
        "id": "_M5gG8GAfNaL"
      },
      "source": [
        "from __future__ import absolute_import, division, print_function\r\n",
        "import os\r\n",
        "import numpy as np\r\n",
        "import pathlib\r\n",
        "import pandas as pd\r\n",
        "import seaborn as sns\r\n",
        "import tensorflow as tf\r\n",
        "import matplotlib.pyplot as plt\r\n",
        "import math\r\n",
        "import time\r\n",
        "from tensorflow import keras\r\n",
        "from tensorflow.keras import layers"
      ],
      "execution_count": 182,
      "outputs": []
    },
    {
      "cell_type": "markdown",
      "metadata": {
        "id": "oplg-rzeAMwY"
      },
      "source": [
        "# Setup State\r\n",
        "y = yes\r\n",
        "n = no"
      ]
    },
    {
      "cell_type": "code",
      "metadata": {
        "id": "Z2ohu1nWAQXu"
      },
      "source": [
        "train_state = 'y'\r\n",
        "early_stop_state = 'y'\r\n",
        "save_state = 'y'\r\n",
        "load_state = 'y'\r\n",
        "model_num = 3\r\n",
        "coal_prop = ['Carbon','Hydrogen','Nitrogen']"
      ],
      "execution_count": 183,
      "outputs": []
    },
    {
      "cell_type": "code",
      "metadata": {
        "colab": {
          "base_uri": "https://localhost:8080/"
        },
        "id": "KHG9xoUNN8Ig",
        "outputId": "1495f6d4-23e4-4f78-aca1-358d4bcd9094"
      },
      "source": [
        "if save_state == 'y':\r\n",
        "  !pip install tensorflowjs"
      ],
      "execution_count": 184,
      "outputs": [
        {
          "output_type": "stream",
          "text": [
            "Requirement already satisfied: tensorflowjs in /usr/local/lib/python3.6/dist-packages (3.1.0)\n",
            "Requirement already satisfied: tensorflow<3,>=2.1.0 in /usr/local/lib/python3.6/dist-packages (from tensorflowjs) (2.4.1)\n",
            "Requirement already satisfied: six<2,>=1.12.0 in /usr/local/lib/python3.6/dist-packages (from tensorflowjs) (1.15.0)\n",
            "Requirement already satisfied: tensorflow-hub<0.10,>=0.7.0 in /usr/local/lib/python3.6/dist-packages (from tensorflowjs) (0.9.0)\n",
            "Requirement already satisfied: h5py<3,>=2.8.0 in /usr/local/lib/python3.6/dist-packages (from tensorflowjs) (2.10.0)\n",
            "Requirement already satisfied: astunparse~=1.6.3 in /usr/local/lib/python3.6/dist-packages (from tensorflow<3,>=2.1.0->tensorflowjs) (1.6.3)\n",
            "Requirement already satisfied: wheel~=0.35 in /usr/local/lib/python3.6/dist-packages (from tensorflow<3,>=2.1.0->tensorflowjs) (0.36.2)\n",
            "Requirement already satisfied: flatbuffers~=1.12.0 in /usr/local/lib/python3.6/dist-packages (from tensorflow<3,>=2.1.0->tensorflowjs) (1.12)\n",
            "Requirement already satisfied: termcolor~=1.1.0 in /usr/local/lib/python3.6/dist-packages (from tensorflow<3,>=2.1.0->tensorflowjs) (1.1.0)\n",
            "Requirement already satisfied: grpcio~=1.32.0 in /usr/local/lib/python3.6/dist-packages (from tensorflow<3,>=2.1.0->tensorflowjs) (1.32.0)\n",
            "Requirement already satisfied: protobuf>=3.9.2 in /usr/local/lib/python3.6/dist-packages (from tensorflow<3,>=2.1.0->tensorflowjs) (3.12.4)\n",
            "Requirement already satisfied: typing-extensions~=3.7.4 in /usr/local/lib/python3.6/dist-packages (from tensorflow<3,>=2.1.0->tensorflowjs) (3.7.4.3)\n",
            "Requirement already satisfied: absl-py~=0.10 in /usr/local/lib/python3.6/dist-packages (from tensorflow<3,>=2.1.0->tensorflowjs) (0.10.0)\n",
            "Requirement already satisfied: keras-preprocessing~=1.1.2 in /usr/local/lib/python3.6/dist-packages (from tensorflow<3,>=2.1.0->tensorflowjs) (1.1.2)\n",
            "Requirement already satisfied: google-pasta~=0.2 in /usr/local/lib/python3.6/dist-packages (from tensorflow<3,>=2.1.0->tensorflowjs) (0.2.0)\n",
            "Requirement already satisfied: numpy~=1.19.2 in /usr/local/lib/python3.6/dist-packages (from tensorflow<3,>=2.1.0->tensorflowjs) (1.19.5)\n",
            "Requirement already satisfied: wrapt~=1.12.1 in /usr/local/lib/python3.6/dist-packages (from tensorflow<3,>=2.1.0->tensorflowjs) (1.12.1)\n",
            "Requirement already satisfied: tensorflow-estimator<2.5.0,>=2.4.0 in /usr/local/lib/python3.6/dist-packages (from tensorflow<3,>=2.1.0->tensorflowjs) (2.4.0)\n",
            "Requirement already satisfied: gast==0.3.3 in /usr/local/lib/python3.6/dist-packages (from tensorflow<3,>=2.1.0->tensorflowjs) (0.3.3)\n",
            "Requirement already satisfied: tensorboard~=2.4 in /usr/local/lib/python3.6/dist-packages (from tensorflow<3,>=2.1.0->tensorflowjs) (2.4.1)\n",
            "Requirement already satisfied: opt-einsum~=3.3.0 in /usr/local/lib/python3.6/dist-packages (from tensorflow<3,>=2.1.0->tensorflowjs) (3.3.0)\n",
            "Requirement already satisfied: setuptools in /usr/local/lib/python3.6/dist-packages (from protobuf>=3.9.2->tensorflow<3,>=2.1.0->tensorflowjs) (53.0.0)\n",
            "Requirement already satisfied: markdown>=2.6.8 in /usr/local/lib/python3.6/dist-packages (from tensorboard~=2.4->tensorflow<3,>=2.1.0->tensorflowjs) (3.3.3)\n",
            "Requirement already satisfied: werkzeug>=0.11.15 in /usr/local/lib/python3.6/dist-packages (from tensorboard~=2.4->tensorflow<3,>=2.1.0->tensorflowjs) (1.0.1)\n",
            "Requirement already satisfied: requests<3,>=2.21.0 in /usr/local/lib/python3.6/dist-packages (from tensorboard~=2.4->tensorflow<3,>=2.1.0->tensorflowjs) (2.23.0)\n",
            "Requirement already satisfied: tensorboard-plugin-wit>=1.6.0 in /usr/local/lib/python3.6/dist-packages (from tensorboard~=2.4->tensorflow<3,>=2.1.0->tensorflowjs) (1.8.0)\n",
            "Requirement already satisfied: google-auth<2,>=1.6.3 in /usr/local/lib/python3.6/dist-packages (from tensorboard~=2.4->tensorflow<3,>=2.1.0->tensorflowjs) (1.25.0)\n",
            "Requirement already satisfied: google-auth-oauthlib<0.5,>=0.4.1 in /usr/local/lib/python3.6/dist-packages (from tensorboard~=2.4->tensorflow<3,>=2.1.0->tensorflowjs) (0.4.2)\n",
            "Requirement already satisfied: importlib-metadata; python_version < \"3.8\" in /usr/local/lib/python3.6/dist-packages (from markdown>=2.6.8->tensorboard~=2.4->tensorflow<3,>=2.1.0->tensorflowjs) (3.4.0)\n",
            "Requirement already satisfied: idna<3,>=2.5 in /usr/local/lib/python3.6/dist-packages (from requests<3,>=2.21.0->tensorboard~=2.4->tensorflow<3,>=2.1.0->tensorflowjs) (2.10)\n",
            "Requirement already satisfied: chardet<4,>=3.0.2 in /usr/local/lib/python3.6/dist-packages (from requests<3,>=2.21.0->tensorboard~=2.4->tensorflow<3,>=2.1.0->tensorflowjs) (3.0.4)\n",
            "Requirement already satisfied: certifi>=2017.4.17 in /usr/local/lib/python3.6/dist-packages (from requests<3,>=2.21.0->tensorboard~=2.4->tensorflow<3,>=2.1.0->tensorflowjs) (2020.12.5)\n",
            "Requirement already satisfied: urllib3!=1.25.0,!=1.25.1,<1.26,>=1.21.1 in /usr/local/lib/python3.6/dist-packages (from requests<3,>=2.21.0->tensorboard~=2.4->tensorflow<3,>=2.1.0->tensorflowjs) (1.24.3)\n",
            "Requirement already satisfied: pyasn1-modules>=0.2.1 in /usr/local/lib/python3.6/dist-packages (from google-auth<2,>=1.6.3->tensorboard~=2.4->tensorflow<3,>=2.1.0->tensorflowjs) (0.2.8)\n",
            "Requirement already satisfied: rsa<5,>=3.1.4; python_version >= \"3.6\" in /usr/local/lib/python3.6/dist-packages (from google-auth<2,>=1.6.3->tensorboard~=2.4->tensorflow<3,>=2.1.0->tensorflowjs) (4.7)\n",
            "Requirement already satisfied: cachetools<5.0,>=2.0.0 in /usr/local/lib/python3.6/dist-packages (from google-auth<2,>=1.6.3->tensorboard~=2.4->tensorflow<3,>=2.1.0->tensorflowjs) (4.2.1)\n",
            "Requirement already satisfied: requests-oauthlib>=0.7.0 in /usr/local/lib/python3.6/dist-packages (from google-auth-oauthlib<0.5,>=0.4.1->tensorboard~=2.4->tensorflow<3,>=2.1.0->tensorflowjs) (1.3.0)\n",
            "Requirement already satisfied: zipp>=0.5 in /usr/local/lib/python3.6/dist-packages (from importlib-metadata; python_version < \"3.8\"->markdown>=2.6.8->tensorboard~=2.4->tensorflow<3,>=2.1.0->tensorflowjs) (3.4.0)\n",
            "Requirement already satisfied: pyasn1<0.5.0,>=0.4.6 in /usr/local/lib/python3.6/dist-packages (from pyasn1-modules>=0.2.1->google-auth<2,>=1.6.3->tensorboard~=2.4->tensorflow<3,>=2.1.0->tensorflowjs) (0.4.8)\n",
            "Requirement already satisfied: oauthlib>=3.0.0 in /usr/local/lib/python3.6/dist-packages (from requests-oauthlib>=0.7.0->google-auth-oauthlib<0.5,>=0.4.1->tensorboard~=2.4->tensorflow<3,>=2.1.0->tensorflowjs) (3.1.0)\n"
          ],
          "name": "stdout"
        }
      ]
    },
    {
      "cell_type": "markdown",
      "metadata": {
        "id": "fmFTnCRElxzW"
      },
      "source": [
        "# Import Dataset using pandas"
      ]
    },
    {
      "cell_type": "code",
      "metadata": {
        "id": "10cLGBhbl82d"
      },
      "source": [
        "car_dataset_url = \"https://raw.githubusercontent.com/pitimonb/coal_analysis/test-new-dataset/dataset/coal_car_ds.csv\"\r\n",
        "hyd_dataset_url = \"https://raw.githubusercontent.com/pitimonb/coal_analysis/test-new-dataset/dataset/coal_hyd_ds.csv\"\r\n",
        "nit_dataset_url = \"https://raw.githubusercontent.com/pitimonb/coal_analysis/test-new-dataset/dataset/coal_nit_ds.csv\"\r\n",
        "\r\n",
        "car_dataset = pd.read_csv(car_dataset_url)\r\n",
        "hyd_dataset = pd.read_csv(hyd_dataset_url)\r\n",
        "nit_dataset = pd.read_csv(nit_dataset_url)\r\n"
      ],
      "execution_count": 185,
      "outputs": []
    },
    {
      "cell_type": "code",
      "metadata": {
        "id": "x0s_yE-LxIne"
      },
      "source": [
        "dataset = [car_dataset,hyd_dataset,nit_dataset]"
      ],
      "execution_count": 186,
      "outputs": []
    },
    {
      "cell_type": "markdown",
      "metadata": {
        "id": "UU34DGscG-UL"
      },
      "source": [
        "# Clean data"
      ]
    },
    {
      "cell_type": "code",
      "metadata": {
        "colab": {
          "base_uri": "https://localhost:8080/"
        },
        "id": "acdW6wUbHAoB",
        "outputId": "2fcdffdf-eed0-4640-bb33-6b7f5f52be38"
      },
      "source": [
        "car_dataset.isna().sum()"
      ],
      "execution_count": 187,
      "outputs": [
        {
          "output_type": "execute_result",
          "data": {
            "text/plain": [
              "p_mois    0\n",
              "p_vol     0\n",
              "p_ash     0\n",
              "p_car     0\n",
              "p_sul     0\n",
              "u_car     0\n",
              "dtype: int64"
            ]
          },
          "metadata": {
            "tags": []
          },
          "execution_count": 187
        }
      ]
    },
    {
      "cell_type": "code",
      "metadata": {
        "colab": {
          "base_uri": "https://localhost:8080/"
        },
        "id": "1R3WFOr9HKAU",
        "outputId": "bf448d1f-21b8-40e0-8bb4-0a3b03b84810"
      },
      "source": [
        "hyd_dataset.isna().sum()"
      ],
      "execution_count": 188,
      "outputs": [
        {
          "output_type": "execute_result",
          "data": {
            "text/plain": [
              "p_mois    0\n",
              "p_vol     0\n",
              "p_ash     0\n",
              "p_car     0\n",
              "p_sul     0\n",
              "u_hyd     0\n",
              "dtype: int64"
            ]
          },
          "metadata": {
            "tags": []
          },
          "execution_count": 188
        }
      ]
    },
    {
      "cell_type": "code",
      "metadata": {
        "colab": {
          "base_uri": "https://localhost:8080/"
        },
        "id": "aOBYzc4aHKpR",
        "outputId": "a248e7ac-b52e-4741-f9ad-e330612a6740"
      },
      "source": [
        "nit_dataset.isna().sum()"
      ],
      "execution_count": 189,
      "outputs": [
        {
          "output_type": "execute_result",
          "data": {
            "text/plain": [
              "p_mois    0\n",
              "p_vol     0\n",
              "p_ash     0\n",
              "p_car     0\n",
              "p_sul     0\n",
              "u_nit     0\n",
              "dtype: int64"
            ]
          },
          "metadata": {
            "tags": []
          },
          "execution_count": 189
        }
      ]
    },
    {
      "cell_type": "markdown",
      "metadata": {
        "id": "STULIapnxTQT"
      },
      "source": [
        "# Input Data"
      ]
    },
    {
      "cell_type": "code",
      "metadata": {
        "id": "jRNtEJ9RxZoP"
      },
      "source": [
        "#input_data = {'p_mois':[17.3],'p_vol':[33.55],'p_ash':[27.56],'p_car':[21.17],'p_sul':[2.4]} #USe\r\n",
        "input_data = {'p_mois':[17.73],'p_vol':[33.55],'p_ash':[27.56],'p_car':[21.17],'p_sul':[2.4]}\r\n",
        "input_data = pd.DataFrame(data = input_data)\r\n",
        "#print(input_data)"
      ],
      "execution_count": 190,
      "outputs": []
    },
    {
      "cell_type": "markdown",
      "metadata": {
        "id": "T0N7YrAZMT5D"
      },
      "source": [
        "# Split data into Train and Test"
      ]
    },
    {
      "cell_type": "code",
      "metadata": {
        "id": "zrmkAeFvbqVS"
      },
      "source": [
        "ds_frac = 0.8\r\n",
        "def train_ds(x):\r\n",
        "  return (x.sample(frac = ds_frac,random_state = 0))\r\n",
        "def test_ds (x):\r\n",
        "  return x.drop((x.sample(frac = ds_frac,random_state = 0)).index)"
      ],
      "execution_count": 191,
      "outputs": []
    },
    {
      "cell_type": "code",
      "metadata": {
        "id": "AscCeGVDtt3p"
      },
      "source": [
        "train_dataset = [1,2,3]\r\n",
        "for i in range(model_num):\r\n",
        "  train_dataset[i] = train_ds(dataset[i])\r\n",
        "test_dataset = [1,2,3]\r\n",
        "for i in range (model_num):\r\n",
        "  test_dataset[i] = test_ds(dataset[i])\r\n",
        "\r\n",
        "#print(train_dataset[2])\r\n",
        "#print(test_dataset[2])"
      ],
      "execution_count": 192,
      "outputs": []
    },
    {
      "cell_type": "markdown",
      "metadata": {
        "id": "byo32INqNpF1"
      },
      "source": [
        "# Inspect Data"
      ]
    },
    {
      "cell_type": "code",
      "metadata": {
        "id": "N4Pgch93Nn8O"
      },
      "source": [
        "#sns.pairplot(train_dataset[0][[\"p_mois\",\"p_vol\",\"p_ash\",\"p_car\",\"p_sul\",\"u_car\"]], diag_kind=\"kde\")# Use\r\n",
        "#sns.pairplot(train_dataset[1][[\"p_mois\",\"p_vol\",\"p_ash\",\"p_car\",\"p_sul\",\"u_hyd\"]], diag_kind=\"kde\")# Use\r\n",
        "#sns.pairplot(train_dataset[2][[\"p_mois\",\"p_vol\",\"p_ash\",\"p_car\",\"p_sul\",\"u_nit\"]], diag_kind=\"kde\")# Use"
      ],
      "execution_count": 193,
      "outputs": []
    },
    {
      "cell_type": "markdown",
      "metadata": {
        "id": "SJSnFkXhPeQu"
      },
      "source": [
        "# Overall Stat"
      ]
    },
    {
      "cell_type": "code",
      "metadata": {
        "id": "34g5A4BE3-Yg",
        "colab": {
          "base_uri": "https://localhost:8080/",
          "height": 204
        },
        "outputId": "6c8f02a9-2abf-4213-84e3-2b13a74e93b2"
      },
      "source": [
        "train_stats = [1,2,3]\r\n",
        "train_pop = [\"u_car\",\"u_hyd\",\"u_nit\"]\r\n",
        "for i in range(model_num):\r\n",
        "  train_stats[i] = train_dataset[i].describe()\r\n",
        "  train_stats[i].pop(str(train_pop[i]))\r\n",
        "  train_stats[i] = train_stats[i].transpose()\r\n",
        "train_stats[1]"
      ],
      "execution_count": 194,
      "outputs": [
        {
          "output_type": "execute_result",
          "data": {
            "text/html": [
              "<div>\n",
              "<style scoped>\n",
              "    .dataframe tbody tr th:only-of-type {\n",
              "        vertical-align: middle;\n",
              "    }\n",
              "\n",
              "    .dataframe tbody tr th {\n",
              "        vertical-align: top;\n",
              "    }\n",
              "\n",
              "    .dataframe thead th {\n",
              "        text-align: right;\n",
              "    }\n",
              "</style>\n",
              "<table border=\"1\" class=\"dataframe\">\n",
              "  <thead>\n",
              "    <tr style=\"text-align: right;\">\n",
              "      <th></th>\n",
              "      <th>count</th>\n",
              "      <th>mean</th>\n",
              "      <th>std</th>\n",
              "      <th>min</th>\n",
              "      <th>25%</th>\n",
              "      <th>50%</th>\n",
              "      <th>75%</th>\n",
              "      <th>max</th>\n",
              "    </tr>\n",
              "  </thead>\n",
              "  <tbody>\n",
              "    <tr>\n",
              "      <th>p_mois</th>\n",
              "      <td>1994.0</td>\n",
              "      <td>13.878108</td>\n",
              "      <td>2.556621</td>\n",
              "      <td>6.870</td>\n",
              "      <td>12.09000</td>\n",
              "      <td>13.9350</td>\n",
              "      <td>15.60875</td>\n",
              "      <td>23.130</td>\n",
              "    </tr>\n",
              "    <tr>\n",
              "      <th>p_vol</th>\n",
              "      <td>1994.0</td>\n",
              "      <td>33.487494</td>\n",
              "      <td>1.800194</td>\n",
              "      <td>27.220</td>\n",
              "      <td>32.23000</td>\n",
              "      <td>33.4800</td>\n",
              "      <td>34.66375</td>\n",
              "      <td>39.680</td>\n",
              "    </tr>\n",
              "    <tr>\n",
              "      <th>p_ash</th>\n",
              "      <td>1994.0</td>\n",
              "      <td>31.746094</td>\n",
              "      <td>4.402355</td>\n",
              "      <td>17.590</td>\n",
              "      <td>29.05625</td>\n",
              "      <td>32.1625</td>\n",
              "      <td>34.96500</td>\n",
              "      <td>44.845</td>\n",
              "    </tr>\n",
              "    <tr>\n",
              "      <th>p_car</th>\n",
              "      <td>1994.0</td>\n",
              "      <td>20.888305</td>\n",
              "      <td>2.839729</td>\n",
              "      <td>13.275</td>\n",
              "      <td>18.91125</td>\n",
              "      <td>20.5200</td>\n",
              "      <td>22.73875</td>\n",
              "      <td>30.720</td>\n",
              "    </tr>\n",
              "    <tr>\n",
              "      <th>p_sul</th>\n",
              "      <td>1994.0</td>\n",
              "      <td>3.418764</td>\n",
              "      <td>0.456924</td>\n",
              "      <td>2.010</td>\n",
              "      <td>3.12000</td>\n",
              "      <td>3.4175</td>\n",
              "      <td>3.69400</td>\n",
              "      <td>4.987</td>\n",
              "    </tr>\n",
              "  </tbody>\n",
              "</table>\n",
              "</div>"
            ],
            "text/plain": [
              "         count       mean       std  ...      50%       75%     max\n",
              "p_mois  1994.0  13.878108  2.556621  ...  13.9350  15.60875  23.130\n",
              "p_vol   1994.0  33.487494  1.800194  ...  33.4800  34.66375  39.680\n",
              "p_ash   1994.0  31.746094  4.402355  ...  32.1625  34.96500  44.845\n",
              "p_car   1994.0  20.888305  2.839729  ...  20.5200  22.73875  30.720\n",
              "p_sul   1994.0   3.418764  0.456924  ...   3.4175   3.69400   4.987\n",
              "\n",
              "[5 rows x 8 columns]"
            ]
          },
          "metadata": {
            "tags": []
          },
          "execution_count": 194
        }
      ]
    },
    {
      "cell_type": "markdown",
      "metadata": {
        "id": "98lJSUY5RPCO"
      },
      "source": [
        "# Split feature form label\r\n",
        "Separate the target value (label) form feature. Label = value that train model to predict."
      ]
    },
    {
      "cell_type": "code",
      "metadata": {
        "id": "cOo1WGb7Btv3"
      },
      "source": [
        "train_label = [1,2,3]\r\n",
        "test_label = [1,2,3]\r\n",
        "for i in range(model_num):\r\n",
        "  train_label[i] = train_dataset[i].pop(str(train_pop[i]))\r\n",
        "  test_label[i] = test_dataset[i].pop(str(train_pop[i]))\r\n",
        "\r\n",
        "#print(train_label[1])\r\n",
        "#print(test_label[1])"
      ],
      "execution_count": 195,
      "outputs": []
    },
    {
      "cell_type": "markdown",
      "metadata": {
        "id": "obSEJYWyRrGV"
      },
      "source": [
        "# Normalize Data"
      ]
    },
    {
      "cell_type": "code",
      "metadata": {
        "id": "re-ePvrHE9sC"
      },
      "source": [
        "normed_train_data = [1,2,3]\r\n",
        "normed_test_data = [1,2,3]\r\n",
        "normed_input_data = [1,2,3]\r\n",
        "for i in range(model_num):\r\n",
        "  normed_train_data[i] = (train_dataset[i] - train_stats[i]['mean']) / train_stats[i]['std']\r\n",
        "  normed_test_data[i] = (test_dataset[i] - train_stats[i]['mean']) / train_stats[i]['std']\r\n",
        "  normed_input_data[i] = (input_data - train_stats[i]['mean']) / train_stats[i]['std']\r\n",
        "#print(normed_train_data[1])\r\n",
        "#print(normed_test_data[1])\r\n",
        "#print(normed_input_data[0])\r\n",
        "#print(train_stats[0]['mean'])\r\n",
        "#print(train_stats[0]['std'])"
      ],
      "execution_count": 196,
      "outputs": []
    },
    {
      "cell_type": "markdown",
      "metadata": {
        "id": "tl0jaHTDh0a2"
      },
      "source": [
        "# The Model"
      ]
    },
    {
      "cell_type": "code",
      "metadata": {
        "id": "IwEZph4Ai8E7"
      },
      "source": [
        "def build_model_1(x):\r\n",
        "  model = keras.Sequential([\r\n",
        "    layers.Dense(512,activation = tf.nn.relu, input_shape = [len(x.keys())]),\r\n",
        "    layers.Dense(256,activation = tf.nn.relu),\r\n",
        "    layers.Dense(1)\r\n",
        "  ])\r\n",
        "\r\n",
        "  optimizer = tf.keras.optimizers.RMSprop(0.001)\r\n",
        "\r\n",
        "  model.compile (loss = 'mse',\r\n",
        "                 optimizer = optimizer,\r\n",
        "                 metrics = ['mae', 'mse'])\r\n",
        "  return model"
      ],
      "execution_count": 197,
      "outputs": []
    },
    {
      "cell_type": "code",
      "metadata": {
        "id": "LKMbC2ausehP"
      },
      "source": [
        "def build_model_2(x):\r\n",
        "  model = keras.Sequential([\r\n",
        "    layers.Dense(1024,activation = tf.nn.relu, input_shape = [len(x.keys())]),\r\n",
        "    layers.Dense(512,activation = tf.nn.relu),\r\n",
        "    layers.Dense(256,activation = tf.nn.relu),\r\n",
        "    layers.Dense(1)\r\n",
        "  ])\r\n",
        "\r\n",
        "  optimizer = tf.keras.optimizers.RMSprop(0.001)\r\n",
        "\r\n",
        "  model.compile (loss = 'mse',\r\n",
        "                 optimizer = optimizer,\r\n",
        "                 metrics = ['mae', 'mse'])\r\n",
        "  return model"
      ],
      "execution_count": 198,
      "outputs": []
    },
    {
      "cell_type": "code",
      "metadata": {
        "id": "-iYJ1bNeTl4e"
      },
      "source": [
        "def build_model_3(x):\r\n",
        "  model = keras.Sequential([\r\n",
        "    layers.Dense(64,activation = tf.nn.relu, input_shape = [len(x.keys())]),\r\n",
        "    layers.Dense(32,activation = tf.nn.relu),\r\n",
        "    #layers.Dense(256,activation = tf.nn.relu),\r\n",
        "    layers.Dense(1)\r\n",
        "  ])\r\n",
        "\r\n",
        "  optimizer = tf.keras.optimizers.RMSprop(0.001)\r\n",
        "\r\n",
        "  model.compile (loss = 'mse',\r\n",
        "                 optimizer = optimizer,\r\n",
        "                 metrics = ['mae', 'mse'])\r\n",
        "  return model"
      ],
      "execution_count": 199,
      "outputs": []
    },
    {
      "cell_type": "code",
      "metadata": {
        "id": "aYbO8Fa5K9me"
      },
      "source": [
        "model_pre = [1,2,3]\r\n",
        "for i in range(model_num):\r\n",
        "  model_pre[i] = build_model_3(train_dataset[i])"
      ],
      "execution_count": 200,
      "outputs": []
    },
    {
      "cell_type": "markdown",
      "metadata": {
        "id": "POmnLbKWnf5l"
      },
      "source": [
        "#Train Model\r\n",
        "Train model for 1000 epochs, and recoed the training and validation accuracy in the history object."
      ]
    },
    {
      "cell_type": "code",
      "metadata": {
        "id": "yM1cexl3sBfT"
      },
      "source": [
        "# Display training progress by printing a single dot for each completed epoch\r\n",
        "class PrintDot(keras.callbacks.Callback):\r\n",
        "  def on_epoch_end(self, epoch, logs):\r\n",
        "    if epoch % 100 == 0: print('')\r\n",
        "    print('.', end = '')\r\n",
        "  \r\n",
        "EPOCHS = 1500"
      ],
      "execution_count": 201,
      "outputs": []
    },
    {
      "cell_type": "code",
      "metadata": {
        "colab": {
          "base_uri": "https://localhost:8080/"
        },
        "id": "tnkkhYMTlIR_",
        "outputId": "59ce20bc-325d-4a6d-f01b-9d0df990cdb4"
      },
      "source": [
        "history = [1,2,3]\r\n",
        "if train_state == 'y':\r\n",
        "  if early_stop_state == 'y':\r\n",
        "    for i in range(model_num):\r\n",
        "      early_stop = keras.callbacks.EarlyStopping(monitor='val_loss', patience=10)\r\n",
        "      history[i] = model_pre[i].fit(\r\n",
        "      normed_train_data[i], train_label[i],\r\n",
        "      epochs = EPOCHS, validation_split = 0.2, verbose = 0,\r\n",
        "      callbacks = [early_stop, PrintDot()])\r\n",
        "      print(' Finish train model: ' + str(coal_prop[i]))\r\n",
        "  else:\r\n",
        "    for i in range(model_num):\r\n",
        "      history[i] = model_pre[i].fit(\r\n",
        "      normed_train_data[i], train_label[i],\r\n",
        "      epochs = EPOCHS, validation_split = 0.2, verbose = 0,\r\n",
        "      callbacks = [PrintDot()])\r\n",
        "      print(' Finish train model: ' + str(coal_prop[i]))\r\n",
        "else:\r\n",
        "  print('Not train')"
      ],
      "execution_count": 202,
      "outputs": [
        {
          "output_type": "stream",
          "text": [
            "\n",
            ".................................... Finish train model: Carbon\n",
            "\n",
            "................................ Finish train model: Hydrogen\n",
            "\n",
            "................................ Finish train model: Nitrogen\n"
          ],
          "name": "stdout"
        }
      ]
    },
    {
      "cell_type": "markdown",
      "metadata": {
        "id": "q868QYyyFNUc"
      },
      "source": [
        "Visualize the model's training progress using the stat stored in the History object."
      ]
    },
    {
      "cell_type": "code",
      "metadata": {
        "id": "OnSOe2gvAD8h"
      },
      "source": [
        "def plot_history(history):\r\n",
        "\r\n",
        "  hist = pd.DataFrame(history.history)\r\n",
        "  hist['epoch'] = history.epoch\r\n",
        "  \r\n",
        "  plt.figure()\r\n",
        "  plt.xlabel('Epoch')\r\n",
        "  plt.xlabel('Mean Abs Error [Output]')\r\n",
        "  plt.plot(hist['epoch'], hist['mae'],\r\n",
        "           label = 'Train Error')\r\n",
        "  plt.plot(hist['epoch'], hist['val_mae'],\r\n",
        "           label = 'Val Error')\r\n",
        "  plt.legend()\r\n",
        "  plt.title(coal_prop[i])\r\n",
        "\r\n",
        "  plt.figure()\r\n",
        "  plt.xlabel('Epoch')\r\n",
        "  plt.xlabel('Mean Square Error [$Output^2$]')\r\n",
        "  plt.plot(hist['epoch'], hist['mse'],\r\n",
        "           label = 'Train Error')\r\n",
        "  plt.plot(hist['epoch'], hist['val_mse'],\r\n",
        "           label = 'Val Error')\r\n",
        "  plt.legend()\r\n",
        "  plt.title(coal_prop[i])"
      ],
      "execution_count": 203,
      "outputs": []
    },
    {
      "cell_type": "code",
      "metadata": {
        "id": "CK_hcomSwMaU",
        "colab": {
          "base_uri": "https://localhost:8080/",
          "height": 1000
        },
        "outputId": "aa005c9a-bc75-49da-e0da-5d65a5fc23c7"
      },
      "source": [
        "hist = [1,2,3]\r\n",
        "if train_state == 'y':\r\n",
        "  for i in range(model_num):\r\n",
        "    hist[i] = pd.DataFrame(history[i].history)\r\n",
        "    hist[i]['epoch'] = history[i].epoch\r\n",
        "    print('************************************************************************************')\r\n",
        "    print(coal_prop[i])\r\n",
        "    print(hist[i].tail())\r\n",
        "    #plot_history(history[i],coal_prop[i])\r\n",
        "    plot_history(history[i])\r\n",
        "else:\r\n",
        "  print()"
      ],
      "execution_count": 204,
      "outputs": [
        {
          "output_type": "stream",
          "text": [
            "************************************************************************************\n",
            "Carbon\n",
            "        loss       mae       mse  val_loss   val_mae   val_mse  epoch\n",
            "31  0.841988  0.571972  0.841988  1.290367  0.603527  1.290367     31\n",
            "32  0.841752  0.580873  0.841752  1.307946  0.642794  1.307946     32\n",
            "33  0.808664  0.563735  0.808664  1.719461  0.837075  1.719461     33\n",
            "34  0.820030  0.562739  0.820030  1.379883  0.630470  1.379883     34\n",
            "35  0.818055  0.570240  0.818055  1.296307  0.649297  1.296307     35\n",
            "************************************************************************************\n",
            "Hydrogen\n",
            "        loss       mae       mse  val_loss   val_mae   val_mse  epoch\n",
            "27  0.085224  0.220862  0.085224  0.113077  0.253661  0.113077     27\n",
            "28  0.086928  0.220923  0.086928  0.145444  0.293376  0.145444     28\n",
            "29  0.085138  0.220092  0.085138  0.103071  0.238313  0.103071     29\n",
            "30  0.085829  0.220054  0.085829  0.107455  0.244321  0.107455     30\n",
            "31  0.084280  0.218440  0.084280  0.109769  0.246828  0.109769     31\n",
            "************************************************************************************\n",
            "Nitrogen\n",
            "        loss       mae       mse  val_loss   val_mae   val_mse  epoch\n",
            "27  0.009279  0.072159  0.009279  0.011219  0.074592  0.011219     27\n",
            "28  0.008950  0.070495  0.008950  0.013682  0.081843  0.013682     28\n",
            "29  0.008899  0.070611  0.008899  0.015116  0.089700  0.015116     29\n",
            "30  0.009356  0.070709  0.009356  0.012488  0.078576  0.012488     30\n",
            "31  0.009175  0.071312  0.009175  0.011466  0.076280  0.011466     31\n"
          ],
          "name": "stdout"
        },
        {
          "output_type": "display_data",
          "data": {
            "image/png": "[encoded data removed]",
            "text/plain": [
              "<Figure size 432x288 with 1 Axes>"
            ]
          },
          "metadata": {
            "tags": [],
            "needs_background": "light"
          }
        },
        {
          "output_type": "display_data",
          "data": {
            "image/png": "[encoded data removed]",
            "text/plain": [
              "<Figure size 432x288 with 1 Axes>"
            ]
          },
          "metadata": {
            "tags": [],
            "needs_background": "light"
          }
        },
        {
          "output_type": "display_data",
          "data": {
            "image/png": "[encoded data removed]",
            "text/plain": [
              "<Figure size 432x288 with 1 Axes>"
            ]
          },
          "metadata": {
            "tags": [],
            "needs_background": "light"
          }
        },
        {
          "output_type": "display_data",
          "data": {
            "image/png": "[encoded data removed]",
            "text/plain": [
              "<Figure size 432x288 with 1 Axes>"
            ]
          },
          "metadata": {
            "tags": [],
            "needs_background": "light"
          }
        },
        {
          "output_type": "display_data",
          "data": {
            "image/png": "[encoded data removed]",
            "text/plain": [
              "<Figure size 432x288 with 1 Axes>"
            ]
          },
          "metadata": {
            "tags": [],
            "needs_background": "light"
          }
        },
        {
          "output_type": "display_data",
          "data": {
            "image/png": "[encoded data removed]",
            "text/plain": [
              "<Figure size 432x288 with 1 Axes>"
            ]
          },
          "metadata": {
            "tags": [],
            "needs_background": "light"
          }
        }
      ]
    },
    {
      "cell_type": "code",
      "metadata": {
        "id": "__LsNZGK-nPo",
        "colab": {
          "base_uri": "https://localhost:8080/"
        },
        "outputId": "e809969e-f813-4825-b586-5cf0238c56d8"
      },
      "source": [
        "rmse_val = [1,2,3]\r\n",
        "for i in range(model_num):\r\n",
        "  loss_val, mae_val, mse_val = model_pre[i].evaluate(normed_test_data[i], test_label[i], verbose = 0)\r\n",
        "  rmse_val[i] = math.sqrt(mse_val)\r\n",
        "  print(coal_prop[i])\r\n",
        "  print(\"Testing set Mean Abs Error: {:5.2f}\".format(mae_val))\r\n",
        "  print(\"Testing set RMSE: {:5.2f}\".format(math.sqrt(mse_val)))\r\n",
        "  print('**********************************************************')\r\n"
      ],
      "execution_count": 205,
      "outputs": [
        {
          "output_type": "stream",
          "text": [
            "Carbon\n",
            "Testing set Mean Abs Error:  0.57\n",
            "Testing set RMSE:  0.85\n",
            "**********************************************************\n",
            "Hydrogen\n",
            "Testing set Mean Abs Error:  0.23\n",
            "Testing set RMSE:  0.31\n",
            "**********************************************************\n",
            "Nitrogen\n",
            "Testing set Mean Abs Error:  0.08\n",
            "Testing set RMSE:  0.10\n",
            "**********************************************************\n"
          ],
          "name": "stdout"
        }
      ]
    },
    {
      "cell_type": "markdown",
      "metadata": {
        "id": "_hU5zfeCYS2g"
      },
      "source": [
        "# Make Prediction\r\n",
        "Predict Output value using data in testing set"
      ]
    },
    {
      "cell_type": "code",
      "metadata": {
        "id": "WzqW4TMJEijw",
        "colab": {
          "base_uri": "https://localhost:8080/"
        },
        "outputId": "753bac5f-5104-4024-fd84-795e76932448"
      },
      "source": [
        "test_pred = [1,2,3]\r\n",
        "for i in range(model_num):\r\n",
        "  test_pred[i] = model_pre[i].predict(normed_test_data[i]).flatten()"
      ],
      "execution_count": 206,
      "outputs": [
        {
          "output_type": "stream",
          "text": [
            "WARNING:tensorflow:5 out of the last 24 calls to <function Model.make_predict_function.<locals>.predict_function at 0x7f89344f5950> triggered tf.function retracing. Tracing is expensive and the excessive number of tracings could be due to (1) creating @tf.function repeatedly in a loop, (2) passing tensors with different shapes, (3) passing Python objects instead of tensors. For (1), please define your @tf.function outside of the loop. For (2), @tf.function has experimental_relax_shapes=True option that relaxes argument shapes that can avoid unnecessary retracing. For (3), please refer to https://www.tensorflow.org/guide/function#controlling_retracing and https://www.tensorflow.org/api_docs/python/tf/function for  more details.\n"
          ],
          "name": "stdout"
        }
      ]
    },
    {
      "cell_type": "code",
      "metadata": {
        "colab": {
          "base_uri": "https://localhost:8080/",
          "height": 279
        },
        "id": "OqwNJqKYhB13",
        "outputId": "fad16020-dfe1-4b9e-aaea-9b76579cee54"
      },
      "source": [
        "for i in range(model_num):\r\n",
        "  plt.scatter(test_label[i], test_pred[i])\r\n",
        "  #plt.title(coal_prop[i])\r\n",
        "  plt.xlabel('True Value [Output]')\r\n",
        "  plt.ylabel('Prediction [Output]')\r\n",
        "  plt.axis('equal')\r\n",
        "  plt.axis('square')\r\n",
        "  _ = plt.plot([0,60], [0,60])"
      ],
      "execution_count": 207,
      "outputs": [
        {
          "output_type": "display_data",
          "data": {
            "image/png": "[encoded data removed]",
            "text/plain": [
              "<Figure size 432x288 with 1 Axes>"
            ]
          },
          "metadata": {
            "tags": [],
            "needs_background": "light"
          }
        }
      ]
    },
    {
      "cell_type": "code",
      "metadata": {
        "id": "ONd_TU27KEoj",
        "colab": {
          "base_uri": "https://localhost:8080/",
          "height": 851
        },
        "outputId": "5f488c8a-1a7c-47e9-bcb0-4b2614be471b"
      },
      "source": [
        "for i in range(model_num):\r\n",
        "  plt.scatter(test_label[i], test_pred[i])\r\n",
        "  plt.title(coal_prop[i])\r\n",
        "  plt.xlabel('True Value [Output]')\r\n",
        "  plt.ylabel('Prediction [Output]')\r\n",
        "  plt.axis('equal')\r\n",
        "  plt.axis('square')\r\n",
        "  _ = plt.plot([0,100], [0,100])\r\n",
        "  plt.show()"
      ],
      "execution_count": 208,
      "outputs": [
        {
          "output_type": "display_data",
          "data": {
            "image/png": "[encoded data removed]",
            "text/plain": [
              "<Figure size 432x288 with 1 Axes>"
            ]
          },
          "metadata": {
            "tags": [],
            "needs_background": "light"
          }
        },
        {
          "output_type": "display_data",
          "data": {
            "image/png": "[encoded data removed]",
            "text/plain": [
              "<Figure size 432x288 with 1 Axes>"
            ]
          },
          "metadata": {
            "tags": [],
            "needs_background": "light"
          }
        },
        {
          "output_type": "display_data",
          "data": {
            "image/png": "[encoded data removed]",
            "text/plain": [
              "<Figure size 432x288 with 1 Axes>"
            ]
          },
          "metadata": {
            "tags": [],
            "needs_background": "light"
          }
        }
      ]
    },
    {
      "cell_type": "markdown",
      "metadata": {
        "id": "aXlTzdDqvLZE"
      },
      "source": [
        "# Save Model"
      ]
    },
    {
      "cell_type": "code",
      "metadata": {
        "colab": {
          "base_uri": "https://localhost:8080/"
        },
        "id": "B_Pgiker06il",
        "outputId": "76bda65e-b0ea-4789-a575-a4394a10316d"
      },
      "source": [
        "model_save_name = ['car_model.h5','hyd_model.h5','nit_model.h5']\r\n",
        "if save_state == 'y':\r\n",
        "  for i in range(model_num):\r\n",
        "    model_pre[i].save(model_save_name[i])\r\n",
        "    !tensorflowjs_converter --input_format=keras /content/car_model.h5 /content/js/car\r\n",
        "    !tensorflowjs_converter --input_format=keras /content/hyd_model.h5 /content/js/hyd\r\n",
        "    !tensorflowjs_converter --input_format=keras /content/nit_model.h5 /content/js/nit\r\n",
        "  print(\"Model Saved\")\r\n",
        "else:\r\n",
        "  print(\"Not save model\") \r\n",
        "\r\n",
        "model_prod = [1,2,3]\r\n",
        "if load_state =='y':\r\n",
        "  for i in range(model_num):\r\n",
        "    model_prod[i] = keras.models.load_model(model_save_name[i])\r\n",
        "  print(\"Model Load\")\r\n",
        "else:\r\n",
        "  print(\"Not load model Prod\")"
      ],
      "execution_count": 209,
      "outputs": [
        {
          "output_type": "stream",
          "text": [
            "2021-02-18 08:28:02.459638: I tensorflow/stream_executor/platform/default/dso_loader.cc:49] Successfully opened dynamic library libcudart.so.10.1\n",
            "2021-02-18 08:28:05.377244: I tensorflow/stream_executor/platform/default/dso_loader.cc:49] Successfully opened dynamic library libcudart.so.10.1\n",
            "2021-02-18 08:28:08.517898: I tensorflow/stream_executor/platform/default/dso_loader.cc:49] Successfully opened dynamic library libcudart.so.10.1\n",
            "2021-02-18 08:28:11.460585: I tensorflow/stream_executor/platform/default/dso_loader.cc:49] Successfully opened dynamic library libcudart.so.10.1\n",
            "2021-02-18 08:28:14.394694: I tensorflow/stream_executor/platform/default/dso_loader.cc:49] Successfully opened dynamic library libcudart.so.10.1\n",
            "2021-02-18 08:28:17.328230: I tensorflow/stream_executor/platform/default/dso_loader.cc:49] Successfully opened dynamic library libcudart.so.10.1\n",
            "2021-02-18 08:28:20.282483: I tensorflow/stream_executor/platform/default/dso_loader.cc:49] Successfully opened dynamic library libcudart.so.10.1\n",
            "2021-02-18 08:28:23.207713: I tensorflow/stream_executor/platform/default/dso_loader.cc:49] Successfully opened dynamic library libcudart.so.10.1\n",
            "2021-02-18 08:28:26.239227: I tensorflow/stream_executor/platform/default/dso_loader.cc:49] Successfully opened dynamic library libcudart.so.10.1\n",
            "Model Saved\n",
            "Model Load\n"
          ],
          "name": "stdout"
        }
      ]
    },
    {
      "cell_type": "code",
      "metadata": {
        "colab": {
          "base_uri": "https://localhost:8080/"
        },
        "id": "DwQOQWijcNDf",
        "outputId": "fa37319d-ab17-4932-bf32-7503a3e8e211"
      },
      "source": [
        "!ls"
      ],
      "execution_count": 210,
      "outputs": [
        {
          "output_type": "stream",
          "text": [
            "car_model.h5  hyd_model.h5  js\tnit_model.h5  sample_data\n"
          ],
          "name": "stdout"
        }
      ]
    },
    {
      "cell_type": "code",
      "metadata": {
        "colab": {
          "base_uri": "https://localhost:8080/"
        },
        "id": "0KW3-_ZI6XRr",
        "outputId": "22e27936-51f1-4c61-828c-33b01c183be3"
      },
      "source": [
        "rmse_val_prod = [1,2,3]\r\n",
        "if load_state =='y':\r\n",
        "  for i in range(model_num):\r\n",
        "    loss_val_prod, mae_val_prod, mse_val_prod = model_prod[i].evaluate(normed_test_data[i], test_label[i], verbose = 0)\r\n",
        "    rmse_val_prod[i] = math.sqrt(mse_val_prod)\r\n",
        "    print(coal_prop[i])\r\n",
        "    print(\"Testing set Mean Abs Error: {:5.2f}\".format(mae_val_prod))\r\n",
        "    print(\"Testing set RMSE: {:5.2f}\".format(math.sqrt(mse_val_prod)))\r\n",
        "    print('**********************************************************')\r\n",
        "else:\r\n",
        "  print(\"Not load model Prod\")"
      ],
      "execution_count": 211,
      "outputs": [
        {
          "output_type": "stream",
          "text": [
            "Carbon\n",
            "Testing set Mean Abs Error:  0.57\n",
            "Testing set RMSE:  0.85\n",
            "**********************************************************\n",
            "Hydrogen\n",
            "Testing set Mean Abs Error:  0.23\n",
            "Testing set RMSE:  0.31\n",
            "**********************************************************\n",
            "Nitrogen\n",
            "Testing set Mean Abs Error:  0.08\n",
            "Testing set RMSE:  0.10\n",
            "**********************************************************\n"
          ],
          "name": "stdout"
        }
      ]
    },
    {
      "cell_type": "markdown",
      "metadata": {
        "id": "zc_a30o-z_vy"
      },
      "source": [
        "# Data Input Result"
      ]
    },
    {
      "cell_type": "code",
      "metadata": {
        "colab": {
          "base_uri": "https://localhost:8080/"
        },
        "id": "UjbOHs_7jf0g",
        "outputId": "6cf86b2d-d7b4-4957-b7c9-7598c90f5c59"
      },
      "source": [
        "print(normed_input_data[0])"
      ],
      "execution_count": 212,
      "outputs": [
        {
          "output_type": "stream",
          "text": [
            "     p_mois     p_vol     p_ash     p_car     p_sul\n",
            "0  1.506634  0.034722 -0.950876  0.099198 -2.229612\n"
          ],
          "name": "stdout"
        }
      ]
    },
    {
      "cell_type": "code",
      "metadata": {
        "colab": {
          "base_uri": "https://localhost:8080/"
        },
        "id": "qGqRDFG0kf7e",
        "outputId": "20cb8d74-e8ca-4ba0-bf4a-a098182c5b94"
      },
      "source": [
        "input_data_pred = model_pre[0].predict(normed_input_data[0])\r\n",
        "input_data_pred"
      ],
      "execution_count": 213,
      "outputs": [
        {
          "output_type": "execute_result",
          "data": {
            "text/plain": [
              "array([[37.933483]], dtype=float32)"
            ]
          },
          "metadata": {
            "tags": []
          },
          "execution_count": 213
        }
      ]
    },
    {
      "cell_type": "code",
      "metadata": {
        "colab": {
          "base_uri": "https://localhost:8080/"
        },
        "id": "QIDxyDJgz_J0",
        "outputId": "83306972-70d0-4647-d861-86a6697e99db"
      },
      "source": [
        "input_data_pred = [1,2,3]\r\n",
        "print('Pre-production Model:')\r\n",
        "for i in range(model_num):\r\n",
        "  input_data_pred[i] = model_pre[i].predict(normed_input_data[i]).flatten()\r\n",
        "  input_data_pred[i] = float(input_data_pred[i])\r\n",
        "  print(str(coal_prop[i]) + \": {:5.3f}\".format(input_data_pred[i]) + \"  ,RMSE: {:5.3f}\".format(rmse_val[i]))\r\n",
        "print('***************************************************************************************')\r\n",
        "print('Prodution Model:')\r\n",
        "if load_state =='y':\r\n",
        "  for i in range(model_num):\r\n",
        "    input_data_pred[i] = model_prod[i].predict(normed_input_data[i]).flatten()\r\n",
        "    input_data_pred[i] = float(input_data_pred[i])\r\n",
        "    print(str(coal_prop[i]) + \": {:5.3f}\".format(input_data_pred[i]) + \"  ,RMSE: {:5.3f}\".format(rmse_val_prod[i]))\r\n",
        "else:\r\n",
        "  print(\"Not load model Prod\")"
      ],
      "execution_count": 214,
      "outputs": [
        {
          "output_type": "stream",
          "text": [
            "Pre-production Model:\n",
            "Carbon: 37.933  ,RMSE: 0.850\n",
            "Hydrogen: 4.777  ,RMSE: 0.309\n",
            "Nitrogen: 1.546  ,RMSE: 0.103\n",
            "***************************************************************************************\n",
            "Prodution Model:\n",
            "Carbon: 37.933  ,RMSE: 0.850\n",
            "Hydrogen: 4.777  ,RMSE: 0.309\n",
            "Nitrogen: 1.546  ,RMSE: 0.103\n"
          ],
          "name": "stdout"
        }
      ]
    }
  ]
}