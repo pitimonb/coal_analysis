{
  "nbformat": 4,
  "nbformat_minor": 0,
  "metadata": {
    "colab": {
      "name": "coal_analysis_training.ipynb",
      "provenance": [],
      "collapsed_sections": [
        "byo32INqNpF1"
      ],
      "authorship_tag": "ABX9TyPOwD9AepA/SlXWgt4ecL+M",
      "include_colab_link": true
    },
    "kernelspec": {
      "name": "python3",
      "display_name": "Python 3"
    }
  },
  "cells": [
    {
      "cell_type": "markdown",
      "metadata": {
        "id": "view-in-github",
        "colab_type": "text"
      },
      "source": [
        "<a href=\"https://colab.research.google.com/github/pitimonb/coal_analysis/blob/main/coal_analysis_training.ipynb\" target=\"_parent\"><img src=\"https://colab.research.google.com/assets/colab-badge.svg\" alt=\"Open In Colab\"/></a>"
      ]
    },
    {
      "cell_type": "code",
      "metadata": {
        "colab": {
          "base_uri": "https://localhost:8080/"
        },
        "id": "mnV5x-eQPLz8",
        "outputId": "b439c80c-8956-42d6-9cf2-9c50ed826c81"
      },
      "source": [
        "!pip install tensorflowjs"
      ],
      "execution_count": null,
      "outputs": [
        {
          "output_type": "stream",
          "text": [
            "Collecting tensorflowjs\n",
            "\u001b[?25l  Downloading https://files.pythonhosted.org/packages/f9/42/184dd8f0c2b4dd375e504cf9c7b305531760efeccd9a606401d27505669e/tensorflowjs-3.0.0-py3-none-any.whl (63kB)\n",
            "\r\u001b[K     |█████▏                          | 10kB 9.3MB/s eta 0:00:01\r\u001b[K     |██████████▍                     | 20kB 14.4MB/s eta 0:00:01\r\u001b[K     |███████████████▌                | 30kB 16.1MB/s eta 0:00:01\r\u001b[K     |████████████████████▊           | 40kB 11.1MB/s eta 0:00:01\r\u001b[K     |█████████████████████████▉      | 51kB 11.4MB/s eta 0:00:01\r\u001b[K     |███████████████████████████████ | 61kB 11.2MB/s eta 0:00:01\r\u001b[K     |████████████████████████████████| 71kB 4.3MB/s \n",
            "\u001b[?25hCollecting tensorflow-hub<0.10,>=0.7.0\n",
            "\u001b[?25l  Downloading https://files.pythonhosted.org/packages/ac/83/a7df82744a794107641dad1decaad017d82e25f0e1f761ac9204829eef96/tensorflow_hub-0.9.0-py2.py3-none-any.whl (103kB)\n",
            "\r\u001b[K     |███▏                            | 10kB 14.8MB/s eta 0:00:01\r\u001b[K     |██████▍                         | 20kB 22.1MB/s eta 0:00:01\r\u001b[K     |█████████▌                      | 30kB 26.7MB/s eta 0:00:01\r\u001b[K     |████████████▊                   | 40kB 21.6MB/s eta 0:00:01\r\u001b[K     |███████████████▉                | 51kB 17.4MB/s eta 0:00:01\r\u001b[K     |███████████████████             | 61kB 19.0MB/s eta 0:00:01\r\u001b[K     |██████████████████████▏         | 71kB 16.2MB/s eta 0:00:01\r\u001b[K     |█████████████████████████▍      | 81kB 15.0MB/s eta 0:00:01\r\u001b[K     |████████████████████████████▋   | 92kB 14.0MB/s eta 0:00:01\r\u001b[K     |███████████████████████████████▊| 102kB 14.7MB/s eta 0:00:01\r\u001b[K     |████████████████████████████████| 112kB 14.7MB/s \n",
            "\u001b[?25hRequirement already satisfied: six<2,>=1.12.0 in /usr/local/lib/python3.6/dist-packages (from tensorflowjs) (1.15.0)\n",
            "Requirement already satisfied: tensorflow<3,>=2.1.0 in /usr/local/lib/python3.6/dist-packages (from tensorflowjs) (2.4.1)\n",
            "Requirement already satisfied: h5py<3,>=2.8.0 in /usr/local/lib/python3.6/dist-packages (from tensorflowjs) (2.10.0)\n",
            "Requirement already satisfied: numpy>=1.12.0 in /usr/local/lib/python3.6/dist-packages (from tensorflow-hub<0.10,>=0.7.0->tensorflowjs) (1.19.5)\n",
            "Requirement already satisfied: protobuf>=3.8.0 in /usr/local/lib/python3.6/dist-packages (from tensorflow-hub<0.10,>=0.7.0->tensorflowjs) (3.12.4)\n",
            "Requirement already satisfied: wheel~=0.35 in /usr/local/lib/python3.6/dist-packages (from tensorflow<3,>=2.1.0->tensorflowjs) (0.36.2)\n",
            "Requirement already satisfied: tensorboard~=2.4 in /usr/local/lib/python3.6/dist-packages (from tensorflow<3,>=2.1.0->tensorflowjs) (2.4.1)\n",
            "Requirement already satisfied: google-pasta~=0.2 in /usr/local/lib/python3.6/dist-packages (from tensorflow<3,>=2.1.0->tensorflowjs) (0.2.0)\n",
            "Requirement already satisfied: flatbuffers~=1.12.0 in /usr/local/lib/python3.6/dist-packages (from tensorflow<3,>=2.1.0->tensorflowjs) (1.12)\n",
            "Requirement already satisfied: opt-einsum~=3.3.0 in /usr/local/lib/python3.6/dist-packages (from tensorflow<3,>=2.1.0->tensorflowjs) (3.3.0)\n",
            "Requirement already satisfied: wrapt~=1.12.1 in /usr/local/lib/python3.6/dist-packages (from tensorflow<3,>=2.1.0->tensorflowjs) (1.12.1)\n",
            "Requirement already satisfied: grpcio~=1.32.0 in /usr/local/lib/python3.6/dist-packages (from tensorflow<3,>=2.1.0->tensorflowjs) (1.32.0)\n",
            "Requirement already satisfied: gast==0.3.3 in /usr/local/lib/python3.6/dist-packages (from tensorflow<3,>=2.1.0->tensorflowjs) (0.3.3)\n",
            "Requirement already satisfied: absl-py~=0.10 in /usr/local/lib/python3.6/dist-packages (from tensorflow<3,>=2.1.0->tensorflowjs) (0.10.0)\n",
            "Requirement already satisfied: termcolor~=1.1.0 in /usr/local/lib/python3.6/dist-packages (from tensorflow<3,>=2.1.0->tensorflowjs) (1.1.0)\n",
            "Requirement already satisfied: keras-preprocessing~=1.1.2 in /usr/local/lib/python3.6/dist-packages (from tensorflow<3,>=2.1.0->tensorflowjs) (1.1.2)\n",
            "Requirement already satisfied: typing-extensions~=3.7.4 in /usr/local/lib/python3.6/dist-packages (from tensorflow<3,>=2.1.0->tensorflowjs) (3.7.4.3)\n",
            "Requirement already satisfied: astunparse~=1.6.3 in /usr/local/lib/python3.6/dist-packages (from tensorflow<3,>=2.1.0->tensorflowjs) (1.6.3)\n",
            "Requirement already satisfied: tensorflow-estimator<2.5.0,>=2.4.0 in /usr/local/lib/python3.6/dist-packages (from tensorflow<3,>=2.1.0->tensorflowjs) (2.4.0)\n",
            "Requirement already satisfied: setuptools in /usr/local/lib/python3.6/dist-packages (from protobuf>=3.8.0->tensorflow-hub<0.10,>=0.7.0->tensorflowjs) (53.0.0)\n",
            "Requirement already satisfied: markdown>=2.6.8 in /usr/local/lib/python3.6/dist-packages (from tensorboard~=2.4->tensorflow<3,>=2.1.0->tensorflowjs) (3.3.3)\n",
            "Requirement already satisfied: tensorboard-plugin-wit>=1.6.0 in /usr/local/lib/python3.6/dist-packages (from tensorboard~=2.4->tensorflow<3,>=2.1.0->tensorflowjs) (1.8.0)\n",
            "Requirement already satisfied: google-auth<2,>=1.6.3 in /usr/local/lib/python3.6/dist-packages (from tensorboard~=2.4->tensorflow<3,>=2.1.0->tensorflowjs) (1.25.0)\n",
            "Requirement already satisfied: requests<3,>=2.21.0 in /usr/local/lib/python3.6/dist-packages (from tensorboard~=2.4->tensorflow<3,>=2.1.0->tensorflowjs) (2.23.0)\n",
            "Requirement already satisfied: werkzeug>=0.11.15 in /usr/local/lib/python3.6/dist-packages (from tensorboard~=2.4->tensorflow<3,>=2.1.0->tensorflowjs) (1.0.1)\n",
            "Requirement already satisfied: google-auth-oauthlib<0.5,>=0.4.1 in /usr/local/lib/python3.6/dist-packages (from tensorboard~=2.4->tensorflow<3,>=2.1.0->tensorflowjs) (0.4.2)\n",
            "Requirement already satisfied: importlib-metadata; python_version < \"3.8\" in /usr/local/lib/python3.6/dist-packages (from markdown>=2.6.8->tensorboard~=2.4->tensorflow<3,>=2.1.0->tensorflowjs) (3.4.0)\n",
            "Requirement already satisfied: pyasn1-modules>=0.2.1 in /usr/local/lib/python3.6/dist-packages (from google-auth<2,>=1.6.3->tensorboard~=2.4->tensorflow<3,>=2.1.0->tensorflowjs) (0.2.8)\n",
            "Requirement already satisfied: rsa<5,>=3.1.4; python_version >= \"3.6\" in /usr/local/lib/python3.6/dist-packages (from google-auth<2,>=1.6.3->tensorboard~=2.4->tensorflow<3,>=2.1.0->tensorflowjs) (4.7)\n",
            "Requirement already satisfied: cachetools<5.0,>=2.0.0 in /usr/local/lib/python3.6/dist-packages (from google-auth<2,>=1.6.3->tensorboard~=2.4->tensorflow<3,>=2.1.0->tensorflowjs) (4.2.1)\n",
            "Requirement already satisfied: chardet<4,>=3.0.2 in /usr/local/lib/python3.6/dist-packages (from requests<3,>=2.21.0->tensorboard~=2.4->tensorflow<3,>=2.1.0->tensorflowjs) (3.0.4)\n",
            "Requirement already satisfied: certifi>=2017.4.17 in /usr/local/lib/python3.6/dist-packages (from requests<3,>=2.21.0->tensorboard~=2.4->tensorflow<3,>=2.1.0->tensorflowjs) (2020.12.5)\n",
            "Requirement already satisfied: urllib3!=1.25.0,!=1.25.1,<1.26,>=1.21.1 in /usr/local/lib/python3.6/dist-packages (from requests<3,>=2.21.0->tensorboard~=2.4->tensorflow<3,>=2.1.0->tensorflowjs) (1.24.3)\n",
            "Requirement already satisfied: idna<3,>=2.5 in /usr/local/lib/python3.6/dist-packages (from requests<3,>=2.21.0->tensorboard~=2.4->tensorflow<3,>=2.1.0->tensorflowjs) (2.10)\n",
            "Requirement already satisfied: requests-oauthlib>=0.7.0 in /usr/local/lib/python3.6/dist-packages (from google-auth-oauthlib<0.5,>=0.4.1->tensorboard~=2.4->tensorflow<3,>=2.1.0->tensorflowjs) (1.3.0)\n",
            "Requirement already satisfied: zipp>=0.5 in /usr/local/lib/python3.6/dist-packages (from importlib-metadata; python_version < \"3.8\"->markdown>=2.6.8->tensorboard~=2.4->tensorflow<3,>=2.1.0->tensorflowjs) (3.4.0)\n",
            "Requirement already satisfied: pyasn1<0.5.0,>=0.4.6 in /usr/local/lib/python3.6/dist-packages (from pyasn1-modules>=0.2.1->google-auth<2,>=1.6.3->tensorboard~=2.4->tensorflow<3,>=2.1.0->tensorflowjs) (0.4.8)\n",
            "Requirement already satisfied: oauthlib>=3.0.0 in /usr/local/lib/python3.6/dist-packages (from requests-oauthlib>=0.7.0->google-auth-oauthlib<0.5,>=0.4.1->tensorboard~=2.4->tensorflow<3,>=2.1.0->tensorflowjs) (3.1.0)\n",
            "Installing collected packages: tensorflow-hub, tensorflowjs\n",
            "  Found existing installation: tensorflow-hub 0.11.0\n",
            "    Uninstalling tensorflow-hub-0.11.0:\n",
            "      Successfully uninstalled tensorflow-hub-0.11.0\n",
            "Successfully installed tensorflow-hub-0.9.0 tensorflowjs-3.0.0\n"
          ],
          "name": "stdout"
        }
      ]
    },
    {
      "cell_type": "markdown",
      "metadata": {
        "id": "70psxl_NMGcT"
      },
      "source": [
        "# Setup Enviroment"
      ]
    },
    {
      "cell_type": "code",
      "metadata": {
        "id": "_M5gG8GAfNaL"
      },
      "source": [
        "from __future__ import absolute_import, division, print_function\r\n",
        "import os\r\n",
        "import numpy as np\r\n",
        "import pathlib\r\n",
        "import pandas as pd\r\n",
        "import seaborn as sns\r\n",
        "import tensorflow as tf\r\n",
        "import matplotlib.pyplot as plt\r\n",
        "import math\r\n",
        "import time\r\n",
        "from tensorflow import keras\r\n",
        "from tensorflow.keras import layers"
      ],
      "execution_count": null,
      "outputs": []
    },
    {
      "cell_type": "markdown",
      "metadata": {
        "id": "oplg-rzeAMwY"
      },
      "source": [
        "# Setup State\r\n",
        "y = yes\r\n",
        "n = no"
      ]
    },
    {
      "cell_type": "code",
      "metadata": {
        "id": "Z2ohu1nWAQXu"
      },
      "source": [
        "train_state = 'y'\r\n",
        "early_stop_state = 'n'\r\n",
        "save_state = 'y'\r\n",
        "model_num = 3\r\n",
        "coal_prop = ['Carbon','Hydrogen','Nitrogen']"
      ],
      "execution_count": null,
      "outputs": []
    },
    {
      "cell_type": "markdown",
      "metadata": {
        "id": "fmFTnCRElxzW"
      },
      "source": [
        "# Import Dataset using pandas"
      ]
    },
    {
      "cell_type": "code",
      "metadata": {
        "id": "10cLGBhbl82d"
      },
      "source": [
        "#hhv_dataset_url = \"https://raw.githubusercontent.com/pitimonb/coal_analysis/main/dataset/coal_hhv_ds.csv\"\r\n",
        "#lhv_dataset_url = \"https://raw.githubusercontent.com/pitimonb/coal_analysis/main/dataset/coal_lhv_ds.csv\"\r\n",
        "car_dataset_url = \"https://raw.githubusercontent.com/pitimonb/coal_analysis/main/dataset/001/coal_car_ds.csv\"\r\n",
        "hyd_dataset_url = \"https://raw.githubusercontent.com/pitimonb/coal_analysis/main/dataset/001/coal_hyd_ds.csv\"\r\n",
        "nit_dataset_url = \"https://raw.githubusercontent.com/pitimonb/coal_analysis/main/dataset/001/coal_nit_ds.csv\"\r\n",
        "#oxy_dataset_url = \"https://raw.githubusercontent.com/pitimonb/coal_analysis/main/dataset/coal_oxy_ds.csv\"\r\n",
        "#sul_exc_dataset_url = \"https://raw.githubusercontent.com/pitimonb/coal_analysis/main/dataset/coal_sul_exc_ds.csv\"\r\n",
        "#hyd_exc_dataset_url = \"https://raw.githubusercontent.com/pitimonb/coal_analysis/main/dataset/coal_hyd_exc_ds.csv\"\r\n",
        "#oxy_exc_dataset_url = \"https://raw.githubusercontent.com/pitimonb/coal_analysis/main/dataset/coal_oxy_exc_ds.csv\"\r\n",
        "#hhv_dataset = pd.read_csv(hhv_dataset_url)\r\n",
        "#lhv_dataset = pd.read_csv(lhv_dataset_url)\r\n",
        "car_dataset = pd.read_csv(car_dataset_url)\r\n",
        "hyd_dataset = pd.read_csv(hyd_dataset_url)\r\n",
        "nit_dataset = pd.read_csv(nit_dataset_url)\r\n",
        "#oxy_dataset = pd.read_csv(oxy_dataset_url)\r\n",
        "#sul_exc_dataset = pd.read_csv(sul_exc_dataset_url)\r\n",
        "#hyd_exc_dataset = pd.read_csv(hyd_exc_dataset_url)\r\n",
        "#oxy_exc_dataset = pd.read_csv(oxy_exc_dataset_url)\r\n",
        "#print(car_dataset)"
      ],
      "execution_count": null,
      "outputs": []
    },
    {
      "cell_type": "code",
      "metadata": {
        "id": "x0s_yE-LxIne"
      },
      "source": [
        "dataset = [car_dataset,hyd_dataset,nit_dataset]"
      ],
      "execution_count": null,
      "outputs": []
    },
    {
      "cell_type": "markdown",
      "metadata": {
        "id": "STULIapnxTQT"
      },
      "source": [
        "# Input Data"
      ]
    },
    {
      "cell_type": "code",
      "metadata": {
        "id": "jRNtEJ9RxZoP"
      },
      "source": [
        "#input_data = {'p_mois':[17.3],'p_vol':[33.55],'p_ash':[27.56],'p_car':[21.17],'p_sul':[2.4]} #USe\r\n",
        "input_data = {'p_mois':[17.73],'p_vol':[33.55],'p_ash':[27.56],'p_car':[21.17],'p_sul':[2.4]}\r\n",
        "input_data = pd.DataFrame(data = input_data)\r\n",
        "#print(input_data)"
      ],
      "execution_count": null,
      "outputs": []
    },
    {
      "cell_type": "markdown",
      "metadata": {
        "id": "T0N7YrAZMT5D"
      },
      "source": [
        "# Split data into Train and Test"
      ]
    },
    {
      "cell_type": "code",
      "metadata": {
        "id": "zrmkAeFvbqVS"
      },
      "source": [
        "ds_frac = 0.8\r\n",
        "def train_ds(x):\r\n",
        "  return (x.sample(frac = ds_frac,random_state = 0))\r\n",
        "def test_ds (x):\r\n",
        "  return x.drop((x.sample(frac = ds_frac,random_state = 0)).index)"
      ],
      "execution_count": null,
      "outputs": []
    },
    {
      "cell_type": "code",
      "metadata": {
        "id": "AscCeGVDtt3p"
      },
      "source": [
        "train_dataset = [1,2,3]\r\n",
        "for i in range(model_num):\r\n",
        "  train_dataset[i] = train_ds(dataset[i])\r\n",
        "test_dataset = [1,2,3]\r\n",
        "for i in range (model_num):\r\n",
        "  test_dataset[i] = test_ds(dataset[i])\r\n",
        "\r\n",
        "#print(train_dataset[2])\r\n",
        "#print(test_dataset[2])"
      ],
      "execution_count": null,
      "outputs": []
    },
    {
      "cell_type": "markdown",
      "metadata": {
        "id": "byo32INqNpF1"
      },
      "source": [
        "# Inspect Data"
      ]
    },
    {
      "cell_type": "code",
      "metadata": {
        "id": "N4Pgch93Nn8O"
      },
      "source": [
        "#sns.pairplot(train_dataset[0][[\"p_mois\",\"p_vol\",\"p_ash\",\"p_car\",\"p_sul\",\"p_hhv\"]], diag_kind=\"kde\")\r\n",
        "#sns.pairplot(train_dataset[1][[\"p_mois\",\"p_vol\",\"p_ash\",\"p_car\",\"p_sul\",\"l_hhv\"]], diag_kind=\"kde\")\r\n",
        "##sns.pairplot(train_dataset[0][[\"p_mois\",\"p_vol\",\"p_ash\",\"p_car\",\"p_sul\",\"u_car\"]], diag_kind=\"kde\")# Use\r\n",
        "##sns.pairplot(train_dataset[1][[\"p_mois\",\"p_vol\",\"p_ash\",\"p_car\",\"p_sul\",\"u_hyd\"]], diag_kind=\"kde\")# Use\r\n",
        "##sns.pairplot(train_dataset[2][[\"p_mois\",\"p_vol\",\"p_ash\",\"p_car\",\"p_sul\",\"u_nit\"]], diag_kind=\"kde\")# Use\r\n",
        "#sns.pairplot(train_dataset[5][[\"p_mois\",\"p_vol\",\"p_ash\",\"p_car\",\"p_sul\",\"u_oxy\"]], diag_kind=\"kde\")\r\n",
        "#sns.pairplot(train_dataset[6][[\"p_mois\",\"p_vol\",\"p_ash\",\"p_car\",\"p_sul\",\"u_sul_exc\"]], diag_kind=\"kde\")\r\n",
        "#sns.pairplot(train_dataset[7][[\"p_mois\",\"p_vol\",\"p_ash\",\"p_car\",\"p_sul\",\"u_hyd_exc\"]], diag_kind=\"kde\")\r\n",
        "#sns.pairplot(train_dataset[8][[\"p_mois\",\"p_vol\",\"p_ash\",\"p_car\",\"p_sul\",\"u_oxy_exc\"]], diag_kind=\"kde\")"
      ],
      "execution_count": null,
      "outputs": []
    },
    {
      "cell_type": "markdown",
      "metadata": {
        "id": "SJSnFkXhPeQu"
      },
      "source": [
        "# Overall Stat"
      ]
    },
    {
      "cell_type": "code",
      "metadata": {
        "id": "34g5A4BE3-Yg",
        "colab": {
          "base_uri": "https://localhost:8080/",
          "height": 204
        },
        "outputId": "f26b95c4-6ae6-432c-8990-6a29c8ea1d2d"
      },
      "source": [
        "train_stats = [1,2,3]\r\n",
        "train_pop = [\"u_car\",\"u_hyd\",\"u_nit\"]\r\n",
        "for i in range(model_num):\r\n",
        "  train_stats[i] = train_dataset[i].describe()\r\n",
        "  train_stats[i].pop(str(train_pop[i]))\r\n",
        "  train_stats[i] = train_stats[i].transpose()\r\n",
        "train_stats[1]"
      ],
      "execution_count": null,
      "outputs": [
        {
          "output_type": "execute_result",
          "data": {
            "text/html": [
              "<div>\n",
              "<style scoped>\n",
              "    .dataframe tbody tr th:only-of-type {\n",
              "        vertical-align: middle;\n",
              "    }\n",
              "\n",
              "    .dataframe tbody tr th {\n",
              "        vertical-align: top;\n",
              "    }\n",
              "\n",
              "    .dataframe thead th {\n",
              "        text-align: right;\n",
              "    }\n",
              "</style>\n",
              "<table border=\"1\" class=\"dataframe\">\n",
              "  <thead>\n",
              "    <tr style=\"text-align: right;\">\n",
              "      <th></th>\n",
              "      <th>count</th>\n",
              "      <th>mean</th>\n",
              "      <th>std</th>\n",
              "      <th>min</th>\n",
              "      <th>25%</th>\n",
              "      <th>50%</th>\n",
              "      <th>75%</th>\n",
              "      <th>max</th>\n",
              "    </tr>\n",
              "  </thead>\n",
              "  <tbody>\n",
              "    <tr>\n",
              "      <th>p_mois</th>\n",
              "      <td>362.0</td>\n",
              "      <td>13.186215</td>\n",
              "      <td>2.215375</td>\n",
              "      <td>8.28</td>\n",
              "      <td>11.6425</td>\n",
              "      <td>13.370</td>\n",
              "      <td>14.5850</td>\n",
              "      <td>19.25</td>\n",
              "    </tr>\n",
              "    <tr>\n",
              "      <th>p_vol</th>\n",
              "      <td>362.0</td>\n",
              "      <td>35.040552</td>\n",
              "      <td>1.391566</td>\n",
              "      <td>32.08</td>\n",
              "      <td>34.0100</td>\n",
              "      <td>34.925</td>\n",
              "      <td>35.8900</td>\n",
              "      <td>39.68</td>\n",
              "    </tr>\n",
              "    <tr>\n",
              "      <th>p_ash</th>\n",
              "      <td>362.0</td>\n",
              "      <td>29.698619</td>\n",
              "      <td>4.135234</td>\n",
              "      <td>18.32</td>\n",
              "      <td>26.7175</td>\n",
              "      <td>29.905</td>\n",
              "      <td>32.7575</td>\n",
              "      <td>39.69</td>\n",
              "    </tr>\n",
              "    <tr>\n",
              "      <th>p_car</th>\n",
              "      <td>362.0</td>\n",
              "      <td>22.078149</td>\n",
              "      <td>2.936709</td>\n",
              "      <td>15.37</td>\n",
              "      <td>20.0450</td>\n",
              "      <td>22.300</td>\n",
              "      <td>23.9150</td>\n",
              "      <td>32.02</td>\n",
              "    </tr>\n",
              "    <tr>\n",
              "      <th>p_sul</th>\n",
              "      <td>362.0</td>\n",
              "      <td>3.236961</td>\n",
              "      <td>0.450471</td>\n",
              "      <td>1.89</td>\n",
              "      <td>2.9200</td>\n",
              "      <td>3.215</td>\n",
              "      <td>3.5300</td>\n",
              "      <td>4.73</td>\n",
              "    </tr>\n",
              "  </tbody>\n",
              "</table>\n",
              "</div>"
            ],
            "text/plain": [
              "        count       mean       std    min      25%     50%      75%    max\n",
              "p_mois  362.0  13.186215  2.215375   8.28  11.6425  13.370  14.5850  19.25\n",
              "p_vol   362.0  35.040552  1.391566  32.08  34.0100  34.925  35.8900  39.68\n",
              "p_ash   362.0  29.698619  4.135234  18.32  26.7175  29.905  32.7575  39.69\n",
              "p_car   362.0  22.078149  2.936709  15.37  20.0450  22.300  23.9150  32.02\n",
              "p_sul   362.0   3.236961  0.450471   1.89   2.9200   3.215   3.5300   4.73"
            ]
          },
          "metadata": {
            "tags": []
          },
          "execution_count": 10
        }
      ]
    },
    {
      "cell_type": "markdown",
      "metadata": {
        "id": "98lJSUY5RPCO"
      },
      "source": [
        "# Split feature form label\r\n",
        "Separate the target value (label) form feature. Label = value that train model to predict."
      ]
    },
    {
      "cell_type": "code",
      "metadata": {
        "id": "cOo1WGb7Btv3"
      },
      "source": [
        "train_label = [1,2,3]\r\n",
        "test_label = [1,2,3]\r\n",
        "for i in range(model_num):\r\n",
        "  train_label[i] = train_dataset[i].pop(str(train_pop[i]))\r\n",
        "  test_label[i] = test_dataset[i].pop(str(train_pop[i]))\r\n",
        "\r\n",
        "#print(train_label[1])\r\n",
        "#print(test_label[1])"
      ],
      "execution_count": null,
      "outputs": []
    },
    {
      "cell_type": "markdown",
      "metadata": {
        "id": "obSEJYWyRrGV"
      },
      "source": [
        "# Normalize Data"
      ]
    },
    {
      "cell_type": "code",
      "metadata": {
        "id": "re-ePvrHE9sC"
      },
      "source": [
        "normed_train_data = [1,2,3]\r\n",
        "normed_test_data = [1,2,3]\r\n",
        "normed_input_data = [1,2,3]\r\n",
        "for i in range(model_num):\r\n",
        "  normed_train_data[i] = (train_dataset[i] - train_stats[i]['mean']) / train_stats[i]['std']\r\n",
        "  normed_test_data[i] = (test_dataset[i] - train_stats[i]['mean']) / train_stats[i]['std']\r\n",
        "  normed_input_data[i] = (input_data - train_stats[i]['mean']) / train_stats[i]['std']\r\n",
        "#print(normed_train_data[1])\r\n",
        "#print(normed_test_data[1])\r\n",
        "#print(normed_input_data[0])\r\n",
        "#print(train_stats[0]['mean'])\r\n",
        "#print(train_stats[0]['std'])"
      ],
      "execution_count": null,
      "outputs": []
    },
    {
      "cell_type": "markdown",
      "metadata": {
        "id": "tl0jaHTDh0a2"
      },
      "source": [
        "# The Model"
      ]
    },
    {
      "cell_type": "code",
      "metadata": {
        "id": "IwEZph4Ai8E7"
      },
      "source": [
        "def build_model_1(x):\r\n",
        "  model = keras.Sequential([\r\n",
        "    layers.Dense(512,activation = tf.nn.relu, input_shape = [len(x.keys())]),\r\n",
        "    layers.Dense(256,activation = tf.nn.relu),\r\n",
        "    layers.Dense(1)\r\n",
        "  ])\r\n",
        "\r\n",
        "  optimizer = tf.keras.optimizers.RMSprop(0.001)\r\n",
        "\r\n",
        "  model.compile (loss = 'mse',\r\n",
        "                 optimizer = optimizer,\r\n",
        "                 metrics = ['mae', 'mse'])\r\n",
        "  return model"
      ],
      "execution_count": null,
      "outputs": []
    },
    {
      "cell_type": "code",
      "metadata": {
        "id": "LKMbC2ausehP"
      },
      "source": [
        "def build_model_2(x):\r\n",
        "  model = keras.Sequential([\r\n",
        "    layers.Dense(1024,activation = tf.nn.relu, input_shape = [len(x.keys())]),\r\n",
        "    layers.Dense(512,activation = tf.nn.relu),\r\n",
        "    layers.Dense(256,activation = tf.nn.relu),\r\n",
        "    layers.Dense(1)\r\n",
        "  ])\r\n",
        "\r\n",
        "  optimizer = tf.keras.optimizers.RMSprop(0.001)\r\n",
        "\r\n",
        "  model.compile (loss = 'mse',\r\n",
        "                 optimizer = optimizer,\r\n",
        "                 metrics = ['mae', 'mse'])\r\n",
        "  return model"
      ],
      "execution_count": null,
      "outputs": []
    },
    {
      "cell_type": "code",
      "metadata": {
        "id": "-iYJ1bNeTl4e"
      },
      "source": [
        "def build_model_3(x):\r\n",
        "  model = keras.Sequential([\r\n",
        "    layers.Dense(64,activation = tf.nn.relu, input_shape = [len(x.keys())]),\r\n",
        "    layers.Dense(32,activation = tf.nn.relu),\r\n",
        "    #layers.Dense(256,activation = tf.nn.relu),\r\n",
        "    layers.Dense(1)\r\n",
        "  ])\r\n",
        "\r\n",
        "  optimizer = tf.keras.optimizers.RMSprop(0.001)\r\n",
        "\r\n",
        "  model.compile (loss = 'mse',\r\n",
        "                 optimizer = optimizer,\r\n",
        "                 metrics = ['mae', 'mse'])\r\n",
        "  return model"
      ],
      "execution_count": null,
      "outputs": []
    },
    {
      "cell_type": "code",
      "metadata": {
        "id": "aYbO8Fa5K9me"
      },
      "source": [
        "model_pre = [1,2,3]\r\n",
        "for i in range(model_num):\r\n",
        "  model_pre[i] = build_model_3(train_dataset[i])"
      ],
      "execution_count": null,
      "outputs": []
    },
    {
      "cell_type": "markdown",
      "metadata": {
        "id": "POmnLbKWnf5l"
      },
      "source": [
        "#Train Model\r\n",
        "Train model for 1000 epochs, and recoed the training and validation accuracy in the history object."
      ]
    },
    {
      "cell_type": "code",
      "metadata": {
        "id": "yM1cexl3sBfT"
      },
      "source": [
        "# Display training progress by printing a single dot for each completed epoch\r\n",
        "class PrintDot(keras.callbacks.Callback):\r\n",
        "  def on_epoch_end(self, epoch, logs):\r\n",
        "    if epoch % 100 == 0: print('')\r\n",
        "    print('.', end = '')\r\n",
        "  \r\n",
        "EPOCHS = 1500"
      ],
      "execution_count": null,
      "outputs": []
    },
    {
      "cell_type": "code",
      "metadata": {
        "colab": {
          "base_uri": "https://localhost:8080/"
        },
        "id": "tnkkhYMTlIR_",
        "outputId": "01e5c119-0990-4534-9a8f-a430c12724f4"
      },
      "source": [
        "history = [1,2,3]\r\n",
        "if train_state == 'y':\r\n",
        "  if early_stop_state == 'y':\r\n",
        "    for i in range(model_num):\r\n",
        "      early_stop = keras.callbacks.EarlyStopping(monitor='val_loss', patience=10)\r\n",
        "      history[i] = model_pre[i].fit(\r\n",
        "      normed_train_data[i], train_label[i],\r\n",
        "      epochs = EPOCHS, validation_split = 0.2, verbose = 0,\r\n",
        "      callbacks = [early_stop, PrintDot()])\r\n",
        "      print(' Finish train model: ' + str(coal_prop[i]))\r\n",
        "  else:\r\n",
        "    for i in range(model_num):\r\n",
        "      history[i] = model_pre[i].fit(\r\n",
        "      normed_train_data[i], train_label[i],\r\n",
        "      epochs = EPOCHS, validation_split = 0.2, verbose = 0,\r\n",
        "      callbacks = [PrintDot()])\r\n",
        "      print(' Finish train model: ' + str(coal_prop[i]))\r\n",
        "else:\r\n",
        "  print('Not train')"
      ],
      "execution_count": null,
      "outputs": [
        {
          "output_type": "stream",
          "text": [
            "\n",
            "....................................................................................................\n",
            "....................................................................................................\n",
            "....................................................................................................\n",
            "....................................................................................................\n",
            "....................................................................................................\n",
            "....................................................................................................\n",
            "....................................................................................................\n",
            "....................................................................................................\n",
            "....................................................................................................\n",
            "....................................................................................................\n",
            "....................................................................................................\n",
            "....................................................................................................\n",
            "....................................................................................................\n",
            "....................................................................................................\n",
            ".................................................................................................... Finish train model: Carbon\n",
            "\n",
            "....................................................................................................\n",
            "....................................................................................................\n",
            "....................................................................................................\n",
            "....................................................................................................\n",
            "....................................................................................................\n",
            "....................................................................................................\n",
            "....................................................................................................\n",
            "....................................................................................................\n",
            "....................................................................................................\n",
            "....................................................................................................\n",
            "....................................................................................................\n",
            "....................................................................................................\n",
            "....................................................................................................\n",
            "....................................................................................................\n",
            ".................................................................................................... Finish train model: Hydrogen\n",
            "\n",
            "....................................................................................................\n",
            "....................................................................................................\n",
            "....................................................................................................\n",
            "....................................................................................................\n",
            "....................................................................................................\n",
            "....................................................................................................\n",
            "....................................................................................................\n",
            "....................................................................................................\n",
            "....................................................................................................\n",
            "....................................................................................................\n",
            "....................................................................................................\n",
            "....................................................................................................\n",
            "....................................................................................................\n",
            "....................................................................................................\n",
            ".................................................................................................... Finish train model: Nitrogen\n"
          ],
          "name": "stdout"
        }
      ]
    },
    {
      "cell_type": "markdown",
      "metadata": {
        "id": "q868QYyyFNUc"
      },
      "source": [
        "Visualize the model's training progress using the stat stored in the History object."
      ]
    },
    {
      "cell_type": "code",
      "metadata": {
        "id": "OnSOe2gvAD8h"
      },
      "source": [
        "def plot_history(history):\r\n",
        "\r\n",
        "  hist = pd.DataFrame(history.history)\r\n",
        "  hist['epoch'] = history.epoch\r\n",
        "  \r\n",
        "  plt.figure()\r\n",
        "  plt.xlabel('Epoch')\r\n",
        "  plt.xlabel('Mean Abs Error [Output]')\r\n",
        "  plt.plot(hist['epoch'], hist['mae'],\r\n",
        "           label = 'Train Error')\r\n",
        "  plt.plot(hist['epoch'], hist['val_mae'],\r\n",
        "           label = 'Val Error')\r\n",
        "  plt.legend()\r\n",
        "  plt.title(coal_prop[i])\r\n",
        "\r\n",
        "  plt.figure()\r\n",
        "  plt.xlabel('Epoch')\r\n",
        "  plt.xlabel('Mean Square Error [$Output^2$]')\r\n",
        "  plt.plot(hist['epoch'], hist['mse'],\r\n",
        "           label = 'Train Error')\r\n",
        "  plt.plot(hist['epoch'], hist['val_mse'],\r\n",
        "           label = 'Val Error')\r\n",
        "  plt.legend()\r\n",
        "  plt.title(coal_prop[i])"
      ],
      "execution_count": null,
      "outputs": []
    },
    {
      "cell_type": "code",
      "metadata": {
        "id": "CK_hcomSwMaU",
        "colab": {
          "base_uri": "https://localhost:8080/",
          "height": 1000
        },
        "outputId": "26e9c7b7-de35-4049-c570-0923dc5eacc3"
      },
      "source": [
        "hist = [1,2,3]\r\n",
        "if train_state == 'y':\r\n",
        "  for i in range(model_num):\r\n",
        "    hist[i] = pd.DataFrame(history[i].history)\r\n",
        "    hist[i]['epoch'] = history[i].epoch\r\n",
        "    print('************************************************************************************')\r\n",
        "    print(coal_prop[i])\r\n",
        "    print(hist[i].tail())\r\n",
        "    #plot_history(history[i],coal_prop[i])\r\n",
        "    plot_history(history[i])\r\n",
        "else:\r\n",
        "  print()"
      ],
      "execution_count": null,
      "outputs": [
        {
          "output_type": "stream",
          "text": [
            "************************************************************************************\n",
            "Carbon\n",
            "          loss       mae       mse  val_loss   val_mae   val_mse  epoch\n",
            "1495  0.308777  0.391213  0.308777  1.097437  0.890297  1.097437   1495\n",
            "1496  0.320620  0.414506  0.320620  0.643541  0.675809  0.643541   1496\n",
            "1497  0.265392  0.370612  0.265392  0.657111  0.627724  0.657111   1497\n",
            "1498  0.277050  0.395690  0.277050  0.435752  0.533719  0.435752   1498\n",
            "1499  0.261961  0.386264  0.261961  0.673234  0.619837  0.673234   1499\n",
            "************************************************************************************\n",
            "Hydrogen\n",
            "          loss       mae       mse  val_loss   val_mae   val_mse  epoch\n",
            "1495  0.011059  0.062320  0.011059  0.032151  0.153292  0.032151   1495\n",
            "1496  0.011156  0.066867  0.011156  0.026347  0.128145  0.026347   1496\n",
            "1497  0.011069  0.069377  0.011069  0.037626  0.159340  0.037626   1497\n",
            "1498  0.012066  0.064476  0.012066  0.018711  0.106402  0.018711   1498\n",
            "1499  0.008267  0.051909  0.008267  0.015865  0.096869  0.015865   1499\n",
            "************************************************************************************\n",
            "Nitrogen\n",
            "          loss       mae       mse  val_loss   val_mae   val_mse  epoch\n",
            "1495  0.001910  0.035788  0.001910  0.023126  0.097217  0.023126   1495\n",
            "1496  0.001384  0.027664  0.001384  0.015950  0.087695  0.015950   1496\n",
            "1497  0.001829  0.031737  0.001829  0.016889  0.088429  0.016889   1497\n",
            "1498  0.001873  0.034251  0.001873  0.019124  0.092901  0.019124   1498\n",
            "1499  0.001256  0.028140  0.001256  0.019502  0.091986  0.019502   1499\n"
          ],
          "name": "stdout"
        },
        {
          "output_type": "display_data",
          "data": {
            "image/png": "[encoded data removed]",
            "text/plain": [
              "<Figure size 432x288 with 1 Axes>"
            ]
          },
          "metadata": {
            "tags": [],
            "needs_background": "light"
          }
        },
        {
          "output_type": "display_data",
          "data": {
            "image/png": "[encoded data removed]",
            "text/plain": [
              "<Figure size 432x288 with 1 Axes>"
            ]
          },
          "metadata": {
            "tags": [],
            "needs_background": "light"
          }
        },
        {
          "output_type": "display_data",
          "data": {
            "image/png": "[encoded data removed]",
            "text/plain": [
              "<Figure size 432x288 with 1 Axes>"
            ]
          },
          "metadata": {
            "tags": [],
            "needs_background": "light"
          }
        },
        {
          "output_type": "display_data",
          "data": {
            "image/png": "[encoded data removed]",
            "text/plain": [
              "<Figure size 432x288 with 1 Axes>"
            ]
          },
          "metadata": {
            "tags": [],
            "needs_background": "light"
          }
        },
        {
          "output_type": "display_data",
          "data": {
            "image/png": "[encoded data removed]",
            "text/plain": [
              "<Figure size 432x288 with 1 Axes>"
            ]
          },
          "metadata": {
            "tags": [],
            "needs_background": "light"
          }
        },
        {
          "output_type": "display_data",
          "data": {
            "image/png": "[encoded data removed]",
            "text/plain": [
              "<Figure size 432x288 with 1 Axes>"
            ]
          },
          "metadata": {
            "tags": [],
            "needs_background": "light"
          }
        }
      ]
    },
    {
      "cell_type": "code",
      "metadata": {
        "id": "__LsNZGK-nPo",
        "colab": {
          "base_uri": "https://localhost:8080/"
        },
        "outputId": "29c1bc9f-b65f-403d-db27-ef36a8d68654"
      },
      "source": [
        "rmse_val = [1,2,3]\r\n",
        "for i in range(model_num):\r\n",
        "  loss_val, mae_val, mse_val = model_pre[i].evaluate(normed_test_data[i], test_label[i], verbose = 0)\r\n",
        "  rmse_val[i] = math.sqrt(mse_val)\r\n",
        "  print(coal_prop[i])\r\n",
        "  print(\"Testing set Mean Abs Error: {:5.2f}\".format(mae_val))\r\n",
        "  print(\"Testing set RMSE: {:5.2f}\".format(math.sqrt(mse_val)))\r\n",
        "  print('**********************************************************')\r\n"
      ],
      "execution_count": null,
      "outputs": [
        {
          "output_type": "stream",
          "text": [
            "Carbon\n",
            "Testing set Mean Abs Error:  0.56\n",
            "Testing set RMSE:  0.75\n",
            "**********************************************************\n",
            "Hydrogen\n",
            "Testing set Mean Abs Error:  0.10\n",
            "Testing set RMSE:  0.14\n",
            "**********************************************************\n",
            "Nitrogen\n",
            "Testing set Mean Abs Error:  0.07\n",
            "Testing set RMSE:  0.09\n",
            "**********************************************************\n"
          ],
          "name": "stdout"
        }
      ]
    },
    {
      "cell_type": "markdown",
      "metadata": {
        "id": "_hU5zfeCYS2g"
      },
      "source": [
        "# Make Prediction\r\n",
        "Predict Output value using data in testing set"
      ]
    },
    {
      "cell_type": "code",
      "metadata": {
        "id": "WzqW4TMJEijw"
      },
      "source": [
        "test_pred = [1,2,3]\r\n",
        "for i in range(model_num):\r\n",
        "  test_pred[i] = model_pre[i].predict(normed_test_data[i]).flatten()"
      ],
      "execution_count": null,
      "outputs": []
    },
    {
      "cell_type": "code",
      "metadata": {
        "colab": {
          "base_uri": "https://localhost:8080/",
          "height": 279
        },
        "id": "OqwNJqKYhB13",
        "outputId": "2bff1349-0a29-4412-f441-e5976ce47dad"
      },
      "source": [
        "for i in range(model_num):\r\n",
        "  plt.scatter(test_label[i], test_pred[i])\r\n",
        "  #plt.title(coal_prop[i])\r\n",
        "  plt.xlabel('True Value [Output]')\r\n",
        "  plt.ylabel('Prediction [Output]')\r\n",
        "  plt.axis('equal')\r\n",
        "  plt.axis('square')\r\n",
        "  _ = plt.plot([0,60], [0,60])"
      ],
      "execution_count": null,
      "outputs": [
        {
          "output_type": "display_data",
          "data": {
            "image/png": "[encoded data removed]",
            "text/plain": [
              "<Figure size 432x288 with 1 Axes>"
            ]
          },
          "metadata": {
            "tags": [],
            "needs_background": "light"
          }
        }
      ]
    },
    {
      "cell_type": "code",
      "metadata": {
        "id": "ONd_TU27KEoj",
        "colab": {
          "base_uri": "https://localhost:8080/",
          "height": 851
        },
        "outputId": "c9822c87-c27f-4936-f9e8-8bb54257a98f"
      },
      "source": [
        "for i in range(model_num):\r\n",
        "  plt.scatter(test_label[i], test_pred[i])\r\n",
        "  plt.title(coal_prop[i])\r\n",
        "  plt.xlabel('True Value [Output]')\r\n",
        "  plt.ylabel('Prediction [Output]')\r\n",
        "  plt.axis('equal')\r\n",
        "  plt.axis('square')\r\n",
        "  _ = plt.plot([0,100], [0,100])\r\n",
        "  plt.show()"
      ],
      "execution_count": null,
      "outputs": [
        {
          "output_type": "display_data",
          "data": {
            "image/png": "[encoded data removed]",
            "text/plain": [
              "<Figure size 432x288 with 1 Axes>"
            ]
          },
          "metadata": {
            "tags": [],
            "needs_background": "light"
          }
        },
        {
          "output_type": "display_data",
          "data": {
            "image/png": "[encoded data removed]",
            "text/plain": [
              "<Figure size 432x288 with 1 Axes>"
            ]
          },
          "metadata": {
            "tags": [],
            "needs_background": "light"
          }
        },
        {
          "output_type": "display_data",
          "data": {
            "image/png": "[encoded data removed]",
            "text/plain": [
              "<Figure size 432x288 with 1 Axes>"
            ]
          },
          "metadata": {
            "tags": [],
            "needs_background": "light"
          }
        }
      ]
    },
    {
      "cell_type": "markdown",
      "metadata": {
        "id": "aXlTzdDqvLZE"
      },
      "source": [
        "# Save Model"
      ]
    },
    {
      "cell_type": "code",
      "metadata": {
        "colab": {
          "base_uri": "https://localhost:8080/"
        },
        "id": "B_Pgiker06il",
        "outputId": "894b553d-4ed1-404d-b5aa-ec8a93866ad3"
      },
      "source": [
        "model_save_name = ['car_model_000.h5','hyd_model_000.h5','nit_model_000.h5']\r\n",
        "if save_state == 'y':\r\n",
        "  for i in range(model_num):\r\n",
        "    model_pre[i].save(model_save_name[i])\r\n",
        "    !tensorflowjs_converter --input_format=keras /content/car_model_000.h5 /content/js/car\r\n",
        "    !tensorflowjs_converter --input_format=keras /content/hyd_model_000.h5 /content/js/hyd\r\n",
        "    !tensorflowjs_converter --input_format=keras /content/nit_model_000.h5 /content/js/nit\r\n",
        "  print(\"Model Saved\")\r\n",
        "else:\r\n",
        "  print(\"Not save model\") \r\n",
        "\r\n",
        "model_prod = [1,2,3]\r\n",
        "for i in range(model_num):\r\n",
        "  model_prod[i] = keras.models.load_model(model_save_name[i])"
      ],
      "execution_count": null,
      "outputs": [
        {
          "output_type": "stream",
          "text": [
            "2021-02-15 05:55:33.926390: I tensorflow/stream_executor/platform/default/dso_loader.cc:49] Successfully opened dynamic library libcudart.so.10.1\n",
            "2021-02-15 05:55:36.958895: I tensorflow/stream_executor/platform/default/dso_loader.cc:49] Successfully opened dynamic library libcudart.so.10.1\n",
            "2021-02-15 05:55:40.043385: I tensorflow/stream_executor/platform/default/dso_loader.cc:49] Successfully opened dynamic library libcudart.so.10.1\n",
            "2021-02-15 05:55:43.496018: I tensorflow/stream_executor/platform/default/dso_loader.cc:49] Successfully opened dynamic library libcudart.so.10.1\n",
            "2021-02-15 05:55:46.577697: I tensorflow/stream_executor/platform/default/dso_loader.cc:49] Successfully opened dynamic library libcudart.so.10.1\n",
            "2021-02-15 05:55:49.701776: I tensorflow/stream_executor/platform/default/dso_loader.cc:49] Successfully opened dynamic library libcudart.so.10.1\n",
            "2021-02-15 05:55:52.887001: I tensorflow/stream_executor/platform/default/dso_loader.cc:49] Successfully opened dynamic library libcudart.so.10.1\n",
            "2021-02-15 05:55:55.998437: I tensorflow/stream_executor/platform/default/dso_loader.cc:49] Successfully opened dynamic library libcudart.so.10.1\n",
            "2021-02-15 05:55:59.340288: I tensorflow/stream_executor/platform/default/dso_loader.cc:49] Successfully opened dynamic library libcudart.so.10.1\n",
            "Model Saved\n"
          ],
          "name": "stdout"
        }
      ]
    },
    {
      "cell_type": "code",
      "metadata": {
        "colab": {
          "base_uri": "https://localhost:8080/"
        },
        "id": "DwQOQWijcNDf",
        "outputId": "f70c23df-663b-40d0-fcbb-d876c379bed2"
      },
      "source": [
        "!ls"
      ],
      "execution_count": null,
      "outputs": [
        {
          "output_type": "stream",
          "text": [
            "car_model_000.h5  hyd_model_000.h5  js\tnit_model_000.h5  sample_data\n"
          ],
          "name": "stdout"
        }
      ]
    },
    {
      "cell_type": "code",
      "metadata": {
        "colab": {
          "base_uri": "https://localhost:8080/"
        },
        "id": "0KW3-_ZI6XRr",
        "outputId": "cfcb5902-e2f4-4f44-dd2e-0e5508f4ea5b"
      },
      "source": [
        "rmse_val_prod = [1,2,3]\r\n",
        "for i in range(model_num):\r\n",
        "  loss_val_prod, mae_val_prod, mse_val_prod = model_prod[i].evaluate(normed_test_data[i], test_label[i], verbose = 0)\r\n",
        "  rmse_val_prod[i] = math.sqrt(mse_val_prod)\r\n",
        "  print(coal_prop[i])\r\n",
        "  print(\"Testing set Mean Abs Error: {:5.2f}\".format(mae_val_prod))\r\n",
        "  print(\"Testing set RMSE: {:5.2f}\".format(math.sqrt(mse_val_prod)))\r\n",
        "  print('**********************************************************')"
      ],
      "execution_count": null,
      "outputs": [
        {
          "output_type": "stream",
          "text": [
            "Carbon\n",
            "Testing set Mean Abs Error:  0.56\n",
            "Testing set RMSE:  0.75\n",
            "**********************************************************\n",
            "Hydrogen\n",
            "Testing set Mean Abs Error:  0.10\n",
            "Testing set RMSE:  0.14\n",
            "**********************************************************\n",
            "Nitrogen\n",
            "Testing set Mean Abs Error:  0.07\n",
            "Testing set RMSE:  0.09\n",
            "**********************************************************\n"
          ],
          "name": "stdout"
        }
      ]
    },
    {
      "cell_type": "markdown",
      "metadata": {
        "id": "zc_a30o-z_vy"
      },
      "source": [
        "# Data Input Result"
      ]
    },
    {
      "cell_type": "code",
      "metadata": {
        "colab": {
          "base_uri": "https://localhost:8080/"
        },
        "id": "UjbOHs_7jf0g",
        "outputId": "e9666b04-6735-4807-c457-f052e8fe8224"
      },
      "source": [
        "print(normed_input_data[0])"
      ],
      "execution_count": null,
      "outputs": [
        {
          "output_type": "stream",
          "text": [
            "     p_mois     p_vol    p_ash    p_car     p_sul\n",
            "0  2.051023 -1.071134 -0.51717 -0.30924 -1.857969\n"
          ],
          "name": "stdout"
        }
      ]
    },
    {
      "cell_type": "code",
      "metadata": {
        "colab": {
          "base_uri": "https://localhost:8080/"
        },
        "id": "qGqRDFG0kf7e",
        "outputId": "5a668ff2-f52f-4640-965c-5ffd8d417569"
      },
      "source": [
        "input_data_pred = model_pre[0].predict(normed_input_data[0])\r\n",
        "input_data_pred"
      ],
      "execution_count": null,
      "outputs": [
        {
          "output_type": "execute_result",
          "data": {
            "text/plain": [
              "array([[41.04727]], dtype=float32)"
            ]
          },
          "metadata": {
            "tags": []
          },
          "execution_count": 29
        }
      ]
    },
    {
      "cell_type": "code",
      "metadata": {
        "colab": {
          "base_uri": "https://localhost:8080/"
        },
        "id": "QIDxyDJgz_J0",
        "outputId": "f825f3de-c656-4d2e-b562-d22e4a5b8649"
      },
      "source": [
        "input_data_pred = [1,2,3]\r\n",
        "print('Pre-production Model:')\r\n",
        "for i in range(model_num):\r\n",
        "  input_data_pred[i] = model_pre[i].predict(normed_input_data[i]).flatten()\r\n",
        "  input_data_pred[i] = float(input_data_pred[i])\r\n",
        "  print(str(coal_prop[i]) + \": {:5.3f}\".format(input_data_pred[i]) + \"  ,RMSE: {:5.3f}\".format(rmse_val[i]))\r\n",
        "print('***************************************************************************************')\r\n",
        "print('Prodution Model:')\r\n",
        "for i in range(model_num):\r\n",
        "  input_data_pred[i] = model_prod[i].predict(normed_input_data[i]).flatten()\r\n",
        "  input_data_pred[i] = float(input_data_pred[i])\r\n",
        "  print(str(coal_prop[i]) + \": {:5.3f}\".format(input_data_pred[i]) + \"  ,RMSE: {:5.3f}\".format(rmse_val_prod[i]))"
      ],
      "execution_count": null,
      "outputs": [
        {
          "output_type": "stream",
          "text": [
            "Pre-production Model:\n",
            "Carbon: 41.047  ,RMSE: 0.752\n",
            "Hydrogen: 5.022  ,RMSE: 0.143\n",
            "Nitrogen: 1.369  ,RMSE: 0.090\n",
            "***************************************************************************************\n",
            "Prodution Model:\n",
            "Carbon: 41.047  ,RMSE: 0.752\n",
            "Hydrogen: 5.022  ,RMSE: 0.143\n",
            "Nitrogen: 1.369  ,RMSE: 0.090\n"
          ],
          "name": "stdout"
        }
      ]
    }
  ]
}