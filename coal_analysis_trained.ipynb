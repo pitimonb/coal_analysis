{
  "nbformat": 4,
  "nbformat_minor": 0,
  "metadata": {
    "colab": {
      "name": "coal_analysis_trained.ipynb",
      "provenance": [],
      "collapsed_sections": [
        "byo32INqNpF1"
      ],
      "authorship_tag": "ABX9TyP4haN0/50NRG50hXlvvYTg",
      "include_colab_link": true
    },
    "kernelspec": {
      "name": "python3",
      "display_name": "Python 3"
    }
  },
  "cells": [
    {
      "cell_type": "markdown",
      "metadata": {
        "id": "view-in-github",
        "colab_type": "text"
      },
      "source": [
        "<a href=\"https://colab.research.google.com/github/pitimonb/coal_analysis/blob/main/coal_analysis_trained.ipynb\" target=\"_parent\"><img src=\"https://colab.research.google.com/assets/colab-badge.svg\" alt=\"Open In Colab\"/></a>"
      ]
    },
    {
      "cell_type": "markdown",
      "metadata": {
        "id": "VZsnzlu9qTfZ"
      },
      "source": [
        "# Must upload model file first"
      ]
    },
    {
      "cell_type": "markdown",
      "metadata": {
        "id": "70psxl_NMGcT"
      },
      "source": [
        "# Setup Enviroment"
      ]
    },
    {
      "cell_type": "code",
      "metadata": {
        "id": "_M5gG8GAfNaL"
      },
      "source": [
        "from __future__ import absolute_import, division, print_function\r\n",
        "import os\r\n",
        "import numpy as np\r\n",
        "import pathlib\r\n",
        "import pandas as pd\r\n",
        "import seaborn as sns\r\n",
        "import tensorflow as tf\r\n",
        "import matplotlib.pyplot as plt\r\n",
        "import math\r\n",
        "import time\r\n",
        "from tensorflow import keras\r\n",
        "from tensorflow.keras import layers"
      ],
      "execution_count": null,
      "outputs": []
    },
    {
      "cell_type": "code",
      "metadata": {
        "id": "Z2ohu1nWAQXu"
      },
      "source": [
        "model_num = 3\r\n",
        "coal_prop = ['Carbon','Hydrogen','Nitrogen']"
      ],
      "execution_count": null,
      "outputs": []
    },
    {
      "cell_type": "markdown",
      "metadata": {
        "id": "fmFTnCRElxzW"
      },
      "source": [
        "# Import Dataset using pandas"
      ]
    },
    {
      "cell_type": "code",
      "metadata": {
        "id": "10cLGBhbl82d"
      },
      "source": [
        "#hhv_dataset_url = \"https://raw.githubusercontent.com/pitimonb/coal_analysis/main/dataset/coal_hhv_ds.csv\"\r\n",
        "#lhv_dataset_url = \"https://raw.githubusercontent.com/pitimonb/coal_analysis/main/dataset/coal_lhv_ds.csv\"\r\n",
        "car_dataset_url = \"https://raw.githubusercontent.com/pitimonb/coal_analysis/main/dataset/001/coal_car_ds.csv\"\r\n",
        "hyd_dataset_url = \"https://raw.githubusercontent.com/pitimonb/coal_analysis/main/dataset/001/coal_hyd_ds.csv\"\r\n",
        "nit_dataset_url = \"https://raw.githubusercontent.com/pitimonb/coal_analysis/main/dataset/001/coal_nit_ds.csv\"\r\n",
        "#oxy_dataset_url = \"https://raw.githubusercontent.com/pitimonb/coal_analysis/main/dataset/coal_oxy_ds.csv\"\r\n",
        "#sul_exc_dataset_url = \"https://raw.githubusercontent.com/pitimonb/coal_analysis/main/dataset/coal_sul_exc_ds.csv\"\r\n",
        "#hyd_exc_dataset_url = \"https://raw.githubusercontent.com/pitimonb/coal_analysis/main/dataset/coal_hyd_exc_ds.csv\"\r\n",
        "#oxy_exc_dataset_url = \"https://raw.githubusercontent.com/pitimonb/coal_analysis/main/dataset/coal_oxy_exc_ds.csv\"\r\n",
        "#hhv_dataset = pd.read_csv(hhv_dataset_url)\r\n",
        "#lhv_dataset = pd.read_csv(lhv_dataset_url)\r\n",
        "car_dataset = pd.read_csv(car_dataset_url)\r\n",
        "hyd_dataset = pd.read_csv(hyd_dataset_url)\r\n",
        "nit_dataset = pd.read_csv(nit_dataset_url)\r\n",
        "#oxy_dataset = pd.read_csv(oxy_dataset_url)\r\n",
        "#sul_exc_dataset = pd.read_csv(sul_exc_dataset_url)\r\n",
        "#hyd_exc_dataset = pd.read_csv(hyd_exc_dataset_url)\r\n",
        "#oxy_exc_dataset = pd.read_csv(oxy_exc_dataset_url)\r\n",
        "#print(car_dataset)"
      ],
      "execution_count": null,
      "outputs": []
    },
    {
      "cell_type": "code",
      "metadata": {
        "id": "x0s_yE-LxIne"
      },
      "source": [
        "dataset = [car_dataset,hyd_dataset,nit_dataset]"
      ],
      "execution_count": null,
      "outputs": []
    },
    {
      "cell_type": "markdown",
      "metadata": {
        "id": "STULIapnxTQT"
      },
      "source": [
        "# Input Data"
      ]
    },
    {
      "cell_type": "code",
      "metadata": {
        "id": "jRNtEJ9RxZoP"
      },
      "source": [
        "#input_data = {'p_mois':[17.3],'p_vol':[33.55],'p_ash':[27.56],'p_car':[21.17],'p_sul':[2.4]} #USe\r\n",
        "input_data = {'p_mois':[8.3],'p_vol':[34.07],'p_ash':[36.8],'p_car':[20.84],'p_sul':[3.77]}\r\n",
        "input_data = pd.DataFrame(data = input_data)\r\n",
        "#input_data\r\n",
        "input_dataset_url = \"https://raw.githubusercontent.com/pitimonb/coal_analysis/main/dataset/001/coal_input_ds.csv\"\r\n",
        "input_dataset =  pd.read_csv(input_dataset_url)"
      ],
      "execution_count": null,
      "outputs": []
    },
    {
      "cell_type": "markdown",
      "metadata": {
        "id": "T0N7YrAZMT5D"
      },
      "source": [
        "# Split data into Train and Test"
      ]
    },
    {
      "cell_type": "code",
      "metadata": {
        "id": "sPfIhrY2gpJ0"
      },
      "source": [
        "ds_frac = 0.8\r\n",
        "def train_ds(x):\r\n",
        "  return (x.sample(frac = ds_frac,random_state = 0))\r\n",
        "def test_ds (x):\r\n",
        "  return x.drop((x.sample(frac = ds_frac,random_state = 0)).index)"
      ],
      "execution_count": null,
      "outputs": []
    },
    {
      "cell_type": "code",
      "metadata": {
        "id": "AscCeGVDtt3p"
      },
      "source": [
        "train_dataset = [1,2,3]\r\n",
        "for i in range(model_num):\r\n",
        "  train_dataset[i] = train_ds(dataset[i])\r\n",
        "test_dataset = [1,2,3]\r\n",
        "for i in range (model_num):\r\n",
        "  test_dataset[i] = test_ds(dataset[i])"
      ],
      "execution_count": null,
      "outputs": []
    },
    {
      "cell_type": "markdown",
      "metadata": {
        "id": "SJSnFkXhPeQu"
      },
      "source": [
        "# Overall Stat"
      ]
    },
    {
      "cell_type": "code",
      "metadata": {
        "id": "34g5A4BE3-Yg"
      },
      "source": [
        "train_stats = [1,2,3]\r\n",
        "train_pop = [\"u_car\",\"u_hyd\",\"u_nit\"]\r\n",
        "for i in range(model_num):\r\n",
        "  train_stats[i] = train_dataset[i].describe()\r\n",
        "  train_stats[i].pop(str(train_pop[i]))\r\n",
        "  train_stats[i] = train_stats[i].transpose()\r\n",
        "#train_stats[1]"
      ],
      "execution_count": null,
      "outputs": []
    },
    {
      "cell_type": "markdown",
      "metadata": {
        "id": "98lJSUY5RPCO"
      },
      "source": [
        "# Split feature form label\r\n",
        "Separate the target value (label) form feature. Label = value that train model to predict."
      ]
    },
    {
      "cell_type": "code",
      "metadata": {
        "id": "cOo1WGb7Btv3"
      },
      "source": [
        "train_label = [1,2,3]\r\n",
        "test_label = [1,2,3]\r\n",
        "for i in range(model_num):\r\n",
        "  train_label[i] = train_dataset[i].pop(str(train_pop[i]))\r\n",
        "  test_label[i] = test_dataset[i].pop(str(train_pop[i]))"
      ],
      "execution_count": null,
      "outputs": []
    },
    {
      "cell_type": "markdown",
      "metadata": {
        "id": "obSEJYWyRrGV"
      },
      "source": [
        "# Normalize Data"
      ]
    },
    {
      "cell_type": "code",
      "metadata": {
        "id": "re-ePvrHE9sC"
      },
      "source": [
        "normed_train_data = [1,2,3]\r\n",
        "normed_test_data = [1,2,3]\r\n",
        "normed_input_data = [1,2,3]\r\n",
        "normed_input_dataset = [1,2,3]\r\n",
        "for i in range(model_num):\r\n",
        "  normed_train_data[i] = (train_dataset[i] - train_stats[i]['mean']) / train_stats[i]['std']\r\n",
        "  normed_test_data[i] = (test_dataset[i] - train_stats[i]['mean']) / train_stats[i]['std']\r\n",
        "  normed_input_data[i] = (input_data - train_stats[i]['mean']) / train_stats[i]['std']\r\n",
        "  normed_input_dataset[i] = (input_dataset - train_stats[i]['mean']) / train_stats[i]['std']\r\n",
        "#normed_input_dataset = (input_dataset - train_stats[0]['mean']) / train_stats[0]['std']"
      ],
      "execution_count": null,
      "outputs": []
    },
    {
      "cell_type": "markdown",
      "metadata": {
        "id": "aXlTzdDqvLZE"
      },
      "source": [
        "# Load Model"
      ]
    },
    {
      "cell_type": "code",
      "metadata": {
        "id": "B_Pgiker06il"
      },
      "source": [
        "model_save_name = ['car_model_001.h5','hyd_model_001.h5','nit_model_001.h5']\r\n",
        "model_prod = [1,2,3]\r\n",
        "for i in range(model_num):\r\n",
        "  model_prod[i] = keras.models.load_model(model_save_name[i])"
      ],
      "execution_count": null,
      "outputs": []
    },
    {
      "cell_type": "code",
      "metadata": {
        "colab": {
          "base_uri": "https://localhost:8080/"
        },
        "id": "0KW3-_ZI6XRr",
        "outputId": "b7bcedcc-5e2d-4288-a508-c758d1a460a2"
      },
      "source": [
        "rmse_val_prod = [1,2,3]\r\n",
        "for i in range(model_num):\r\n",
        "  loss_val_prod, mae_val_prod, mse_val_prod = model_prod[i].evaluate(normed_test_data[i], test_label[i], verbose = 0)\r\n",
        "  rmse_val_prod[i] = math.sqrt(mse_val_prod)\r\n",
        "  print(coal_prop[i])\r\n",
        "  print(\"Testing set Mean Abs Error: {:5.2f}\".format(mae_val_prod))\r\n",
        "  print(\"Testing set RMSE: {:5.2f}\".format(math.sqrt(mse_val_prod)))\r\n",
        "  print('**********************************************************')"
      ],
      "execution_count": null,
      "outputs": [
        {
          "output_type": "stream",
          "text": [
            "WARNING:tensorflow:5 out of the last 13 calls to <function Model.make_test_function.<locals>.test_function at 0x7f9776039488> triggered tf.function retracing. Tracing is expensive and the excessive number of tracings could be due to (1) creating @tf.function repeatedly in a loop, (2) passing tensors with different shapes, (3) passing Python objects instead of tensors. For (1), please define your @tf.function outside of the loop. For (2), @tf.function has experimental_relax_shapes=True option that relaxes argument shapes that can avoid unnecessary retracing. For (3), please refer to https://www.tensorflow.org/guide/function#controlling_retracing and https://www.tensorflow.org/api_docs/python/tf/function for  more details.\n",
            "Carbon\n",
            "Testing set Mean Abs Error:  0.96\n",
            "Testing set RMSE:  1.19\n",
            "**********************************************************\n",
            "WARNING:tensorflow:5 out of the last 13 calls to <function Model.make_test_function.<locals>.test_function at 0x7f9770ed3488> triggered tf.function retracing. Tracing is expensive and the excessive number of tracings could be due to (1) creating @tf.function repeatedly in a loop, (2) passing tensors with different shapes, (3) passing Python objects instead of tensors. For (1), please define your @tf.function outside of the loop. For (2), @tf.function has experimental_relax_shapes=True option that relaxes argument shapes that can avoid unnecessary retracing. For (3), please refer to https://www.tensorflow.org/guide/function#controlling_retracing and https://www.tensorflow.org/api_docs/python/tf/function for  more details.\n",
            "Hydrogen\n",
            "Testing set Mean Abs Error:  0.12\n",
            "Testing set RMSE:  0.15\n",
            "**********************************************************\n",
            "WARNING:tensorflow:5 out of the last 13 calls to <function Model.make_test_function.<locals>.test_function at 0x7f97760397b8> triggered tf.function retracing. Tracing is expensive and the excessive number of tracings could be due to (1) creating @tf.function repeatedly in a loop, (2) passing tensors with different shapes, (3) passing Python objects instead of tensors. For (1), please define your @tf.function outside of the loop. For (2), @tf.function has experimental_relax_shapes=True option that relaxes argument shapes that can avoid unnecessary retracing. For (3), please refer to https://www.tensorflow.org/guide/function#controlling_retracing and https://www.tensorflow.org/api_docs/python/tf/function for  more details.\n",
            "Nitrogen\n",
            "Testing set Mean Abs Error:  0.09\n",
            "Testing set RMSE:  0.10\n",
            "**********************************************************\n"
          ],
          "name": "stdout"
        }
      ]
    },
    {
      "cell_type": "markdown",
      "metadata": {
        "id": "zc_a30o-z_vy"
      },
      "source": [
        "# Data Input Result"
      ]
    },
    {
      "cell_type": "code",
      "metadata": {
        "colab": {
          "base_uri": "https://localhost:8080/"
        },
        "id": "QIDxyDJgz_J0",
        "outputId": "588a8243-76ba-4bcd-d5ef-ed6c2af677fe"
      },
      "source": [
        "print('Result: 38.28, 4.69, 1.36')\r\n",
        "print('***************************************************************************************')\r\n",
        "input_data_pred = [1,2,3]\r\n",
        "print('Prodution Model:')\r\n",
        "for i in range(model_num):\r\n",
        "  input_data_pred[i] = model_prod[i].predict(normed_input_data[i]).flatten()\r\n",
        "  input_data_pred[i] = float(input_data_pred[i])\r\n",
        "  print(str(coal_prop[i]) + \": {:5.2f}\".format(input_data_pred[i]) + \"  ,RMSE: {:5.2f}\".format(rmse_val_prod[i]))\r\n",
        "print('***************************************************************************************')\r\n",
        "for i in range(model_num):\r\n",
        "  input_data_pred[i] = model_prod[i].predict(normed_input_dataset[i]).flatten()\r\n",
        "  #print(input_data_pred[i])"
      ],
      "execution_count": null,
      "outputs": [
        {
          "output_type": "stream",
          "text": [
            "Result: 38.28, 4.69, 1.36\n",
            "***************************************************************************************\n",
            "Prodution Model:\n",
            "Carbon: 40.14  ,RMSE:  1.19\n",
            "Hydrogen:  3.83  ,RMSE:  0.15\n",
            "Nitrogen:  1.37  ,RMSE:  0.10\n",
            "***************************************************************************************\n"
          ],
          "name": "stdout"
        }
      ]
    }
  ]
}